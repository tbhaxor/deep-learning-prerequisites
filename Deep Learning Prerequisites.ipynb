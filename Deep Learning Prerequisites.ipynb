{
 "cells": [
  {
   "cell_type": "markdown",
   "metadata": {},
   "source": [
    "# Numpy\n",
    "\n",
    "+ library for large, multi-dimensional arrays and matrices\n",
    "+ a large collection of high-level mathematical functions to operate on these arrays are also shipped with it\n",
    "\n",
    "Installing Numpy\n",
    "\n",
    "    $ pip install -U numpy"
   ]
  },
  {
   "cell_type": "markdown",
   "metadata": {},
   "source": [
    "## List vs Numpy Array\n",
    "\n",
    "+ list are simple collection of elements\n",
    "+ numpy array is a typed list which represents a **vector**"
   ]
  },
  {
   "cell_type": "code",
   "execution_count": 1,
   "metadata": {},
   "outputs": [],
   "source": [
    "# importing numpy\n",
    "import numpy as np"
   ]
  },
  {
   "cell_type": "markdown",
   "metadata": {},
   "source": [
    "**Declaring a numpy array**"
   ]
  },
  {
   "cell_type": "code",
   "execution_count": 2,
   "metadata": {},
   "outputs": [],
   "source": [
    "L = [1,2,3]\n",
    "arr = np.array(L)"
   ]
  },
  {
   "cell_type": "markdown",
   "metadata": {},
   "source": [
    "**Vector Addition**"
   ]
  },
  {
   "cell_type": "code",
   "execution_count": 3,
   "metadata": {},
   "outputs": [
    {
     "data": {
      "text/plain": [
       "array([2, 4, 6])"
      ]
     },
     "execution_count": 3,
     "metadata": {},
     "output_type": "execute_result"
    }
   ],
   "source": [
    "arr + arr"
   ]
  },
  {
   "cell_type": "markdown",
   "metadata": {},
   "source": [
    "**Scalor Multiplication**"
   ]
  },
  {
   "cell_type": "code",
   "execution_count": 4,
   "metadata": {},
   "outputs": [
    {
     "data": {
      "text/plain": [
       "array([10, 20, 30])"
      ]
     },
     "execution_count": 4,
     "metadata": {},
     "output_type": "execute_result"
    }
   ],
   "source": [
    "10 * arr"
   ]
  },
  {
   "cell_type": "markdown",
   "metadata": {},
   "source": [
    "**Square of all elements**"
   ]
  },
  {
   "cell_type": "code",
   "execution_count": 5,
   "metadata": {},
   "outputs": [
    {
     "data": {
      "text/plain": [
       "array([1, 4, 9])"
      ]
     },
     "execution_count": 5,
     "metadata": {},
     "output_type": "execute_result"
    }
   ],
   "source": [
    "arr ** 2"
   ]
  },
  {
   "cell_type": "markdown",
   "metadata": {},
   "source": [
    "**Square root of all elements**"
   ]
  },
  {
   "cell_type": "code",
   "execution_count": 6,
   "metadata": {},
   "outputs": [
    {
     "data": {
      "text/plain": [
       "array([1.        , 1.41421356, 1.73205081])"
      ]
     },
     "execution_count": 6,
     "metadata": {},
     "output_type": "execute_result"
    }
   ],
   "source": [
    "np.sqrt(arr)"
   ]
  },
  {
   "cell_type": "markdown",
   "metadata": {},
   "source": [
    "**Finding log an array**"
   ]
  },
  {
   "cell_type": "code",
   "execution_count": 7,
   "metadata": {},
   "outputs": [
    {
     "data": {
      "text/plain": [
       "array([0.        , 0.69314718, 1.09861229])"
      ]
     },
     "execution_count": 7,
     "metadata": {},
     "output_type": "execute_result"
    }
   ],
   "source": [
    "np.log(arr)"
   ]
  },
  {
   "cell_type": "markdown",
   "metadata": {},
   "source": [
    "**Exponential of an array**"
   ]
  },
  {
   "cell_type": "code",
   "execution_count": 8,
   "metadata": {},
   "outputs": [
    {
     "data": {
      "text/plain": [
       "array([ 2.71828183,  7.3890561 , 20.08553692])"
      ]
     },
     "execution_count": 8,
     "metadata": {},
     "output_type": "execute_result"
    }
   ],
   "source": [
    "np.exp(arr)"
   ]
  },
  {
   "cell_type": "markdown",
   "metadata": {},
   "source": [
    "## More on Arrays"
   ]
  },
  {
   "cell_type": "code",
   "execution_count": 9,
   "metadata": {},
   "outputs": [],
   "source": [
    "A = np.array([1, 2])\n",
    "B = np.array([2, 1])"
   ]
  },
  {
   "cell_type": "markdown",
   "metadata": {},
   "source": [
    "**Multiplication**"
   ]
  },
  {
   "cell_type": "code",
   "execution_count": 10,
   "metadata": {},
   "outputs": [
    {
     "data": {
      "text/plain": [
       "array([2, 2])"
      ]
     },
     "execution_count": 10,
     "metadata": {},
     "output_type": "execute_result"
    }
   ],
   "source": [
    "A * B"
   ]
  },
  {
   "cell_type": "markdown",
   "metadata": {},
   "source": [
    "**Dot Product**"
   ]
  },
  {
   "cell_type": "code",
   "execution_count": 11,
   "metadata": {},
   "outputs": [
    {
     "data": {
      "text/plain": [
       "4"
      ]
     },
     "execution_count": 11,
     "metadata": {},
     "output_type": "execute_result"
    }
   ],
   "source": [
    "np.dot(A, B)"
   ]
  },
  {
   "cell_type": "code",
   "execution_count": 12,
   "metadata": {},
   "outputs": [
    {
     "data": {
      "text/plain": [
       "4"
      ]
     },
     "execution_count": 12,
     "metadata": {},
     "output_type": "execute_result"
    }
   ],
   "source": [
    "A.dot(B)"
   ]
  },
  {
   "cell_type": "code",
   "execution_count": 13,
   "metadata": {},
   "outputs": [
    {
     "data": {
      "text/plain": [
       "4"
      ]
     },
     "execution_count": 13,
     "metadata": {},
     "output_type": "execute_result"
    }
   ],
   "source": [
    "B.dot(A)"
   ]
  },
  {
   "cell_type": "markdown",
   "metadata": {},
   "source": [
    "**Magnitude of Vector**"
   ]
  },
  {
   "cell_type": "code",
   "execution_count": 14,
   "metadata": {},
   "outputs": [
    {
     "data": {
      "text/plain": [
       "2.23606797749979"
      ]
     },
     "execution_count": 14,
     "metadata": {},
     "output_type": "execute_result"
    }
   ],
   "source": [
    "A_MAG = np.sqrt( (A * A).sum() )\n",
    "A_MAG"
   ]
  },
  {
   "cell_type": "code",
   "execution_count": 15,
   "metadata": {},
   "outputs": [
    {
     "data": {
      "text/plain": [
       "2.23606797749979"
      ]
     },
     "execution_count": 15,
     "metadata": {},
     "output_type": "execute_result"
    }
   ],
   "source": [
    "A_MAG = np.linalg.norm(A)\n",
    "A_MAG"
   ]
  },
  {
   "cell_type": "markdown",
   "metadata": {},
   "source": [
    "**Finding angle between 2 vectors**"
   ]
  },
  {
   "cell_type": "code",
   "execution_count": 16,
   "metadata": {},
   "outputs": [
    {
     "data": {
      "text/plain": [
       "0.6435011087932847"
      ]
     },
     "execution_count": 16,
     "metadata": {},
     "output_type": "execute_result"
    }
   ],
   "source": [
    "COS_ANGLE = A.dot(B) / ( np.linalg.norm(A) * np.linalg.norm(B))\n",
    "ANGLE = np.arccos(COS_ANGLE)\n",
    "ANGLE # in radians"
   ]
  },
  {
   "cell_type": "markdown",
   "metadata": {},
   "source": [
    "## Matrix\n",
    "\n",
    "+ a 2d array\n",
    "+ list of list"
   ]
  },
  {
   "cell_type": "code",
   "execution_count": 17,
   "metadata": {},
   "outputs": [],
   "source": [
    "MATRIX_1 = np.array([ [1, 2], [3, 4] ])\n",
    "MATRIX_2 = np.matrix([ [1, 2], [3, 4] ]) # not recommended though"
   ]
  },
  {
   "cell_type": "markdown",
   "metadata": {},
   "source": [
    "**Getting the value**"
   ]
  },
  {
   "cell_type": "code",
   "execution_count": 18,
   "metadata": {},
   "outputs": [
    {
     "data": {
      "text/plain": [
       "1"
      ]
     },
     "execution_count": 18,
     "metadata": {},
     "output_type": "execute_result"
    }
   ],
   "source": [
    "MATRIX_1[0][0]"
   ]
  },
  {
   "cell_type": "code",
   "execution_count": 19,
   "metadata": {},
   "outputs": [
    {
     "data": {
      "text/plain": [
       "1"
      ]
     },
     "execution_count": 19,
     "metadata": {},
     "output_type": "execute_result"
    }
   ],
   "source": [
    "MATRIX_1[0, 0]"
   ]
  },
  {
   "cell_type": "markdown",
   "metadata": {},
   "source": [
    "**Determing if matrix and 2d array are same**"
   ]
  },
  {
   "cell_type": "code",
   "execution_count": 20,
   "metadata": {},
   "outputs": [
    {
     "data": {
      "text/plain": [
       "False"
      ]
     },
     "execution_count": 20,
     "metadata": {},
     "output_type": "execute_result"
    }
   ],
   "source": [
    "type(MATRIX_1) == type(MATRIX_2)"
   ]
  },
  {
   "cell_type": "markdown",
   "metadata": {},
   "source": [
    "**Transposing of matrix**"
   ]
  },
  {
   "cell_type": "code",
   "execution_count": 21,
   "metadata": {},
   "outputs": [
    {
     "data": {
      "text/plain": [
       "array([[1, 3],\n",
       "       [2, 4]])"
      ]
     },
     "execution_count": 21,
     "metadata": {},
     "output_type": "execute_result"
    }
   ],
   "source": [
    "MATRIX_1.T"
   ]
  },
  {
   "cell_type": "code",
   "execution_count": 22,
   "metadata": {},
   "outputs": [
    {
     "data": {
      "text/plain": [
       "matrix([[1, 3],\n",
       "        [2, 4]])"
      ]
     },
     "execution_count": 22,
     "metadata": {},
     "output_type": "execute_result"
    }
   ],
   "source": [
    "MATRIX_2.T"
   ]
  },
  {
   "cell_type": "markdown",
   "metadata": {},
   "source": [
    "## Making Large Numpy"
   ]
  },
  {
   "cell_type": "markdown",
   "metadata": {},
   "source": [
    "### Zero"
   ]
  },
  {
   "cell_type": "code",
   "execution_count": 23,
   "metadata": {},
   "outputs": [
    {
     "data": {
      "text/plain": [
       "array([0., 0., 0., 0., 0., 0., 0., 0., 0., 0., 0., 0., 0., 0., 0., 0., 0.,\n",
       "       0., 0., 0., 0., 0., 0., 0., 0., 0., 0., 0., 0., 0., 0., 0., 0., 0.,\n",
       "       0., 0., 0., 0., 0., 0., 0., 0., 0., 0., 0., 0., 0., 0., 0., 0., 0.,\n",
       "       0., 0., 0., 0., 0., 0., 0., 0., 0., 0., 0., 0., 0., 0., 0., 0., 0.,\n",
       "       0., 0., 0., 0., 0., 0., 0., 0., 0., 0., 0., 0., 0., 0., 0., 0., 0.,\n",
       "       0., 0., 0., 0., 0., 0., 0., 0., 0., 0., 0., 0., 0., 0., 0.])"
      ]
     },
     "execution_count": 23,
     "metadata": {},
     "output_type": "execute_result"
    }
   ],
   "source": [
    "ZERO_ARR = np.zeros(100)\n",
    "ZERO_ARR"
   ]
  },
  {
   "cell_type": "code",
   "execution_count": 24,
   "metadata": {},
   "outputs": [
    {
     "data": {
      "text/plain": [
       "array([[0., 0., 0., ..., 0., 0., 0.],\n",
       "       [0., 0., 0., ..., 0., 0., 0.],\n",
       "       [0., 0., 0., ..., 0., 0., 0.],\n",
       "       ...,\n",
       "       [0., 0., 0., ..., 0., 0., 0.],\n",
       "       [0., 0., 0., ..., 0., 0., 0.],\n",
       "       [0., 0., 0., ..., 0., 0., 0.]])"
      ]
     },
     "execution_count": 24,
     "metadata": {},
     "output_type": "execute_result"
    }
   ],
   "source": [
    "ZERO_MAT = np.zeros((100, 100))\n",
    "ZERO_MAT"
   ]
  },
  {
   "cell_type": "markdown",
   "metadata": {},
   "source": [
    "### One"
   ]
  },
  {
   "cell_type": "code",
   "execution_count": 25,
   "metadata": {},
   "outputs": [
    {
     "data": {
      "text/plain": [
       "array([1., 1., 1., 1., 1., 1., 1., 1., 1., 1., 1., 1., 1., 1., 1., 1., 1.,\n",
       "       1., 1., 1., 1., 1., 1., 1., 1., 1., 1., 1., 1., 1., 1., 1., 1., 1.,\n",
       "       1., 1., 1., 1., 1., 1., 1., 1., 1., 1., 1., 1., 1., 1., 1., 1., 1.,\n",
       "       1., 1., 1., 1., 1., 1., 1., 1., 1., 1., 1., 1., 1., 1., 1., 1., 1.,\n",
       "       1., 1., 1., 1., 1., 1., 1., 1., 1., 1., 1., 1., 1., 1., 1., 1., 1.,\n",
       "       1., 1., 1., 1., 1., 1., 1., 1., 1., 1., 1., 1., 1., 1., 1.])"
      ]
     },
     "execution_count": 25,
     "metadata": {},
     "output_type": "execute_result"
    }
   ],
   "source": [
    "ONE_ARR = np.ones(100)\n",
    "ONE_ARR"
   ]
  },
  {
   "cell_type": "code",
   "execution_count": 26,
   "metadata": {},
   "outputs": [
    {
     "data": {
      "text/plain": [
       "array([[1., 1., 1., ..., 1., 1., 1.],\n",
       "       [1., 1., 1., ..., 1., 1., 1.],\n",
       "       [1., 1., 1., ..., 1., 1., 1.],\n",
       "       ...,\n",
       "       [1., 1., 1., ..., 1., 1., 1.],\n",
       "       [1., 1., 1., ..., 1., 1., 1.],\n",
       "       [1., 1., 1., ..., 1., 1., 1.]])"
      ]
     },
     "execution_count": 26,
     "metadata": {},
     "output_type": "execute_result"
    }
   ],
   "source": [
    "ONE_MAT = np.ones((100, 100))\n",
    "ONE_MAT"
   ]
  },
  {
   "cell_type": "markdown",
   "metadata": {},
   "source": [
    "### Random Numbers"
   ]
  },
  {
   "cell_type": "code",
   "execution_count": 27,
   "metadata": {},
   "outputs": [
    {
     "data": {
      "text/plain": [
       "array([0.29517098, 0.16198416, 0.32474525, 0.08416414, 0.41853548,\n",
       "       0.28508418, 0.80490131, 0.65730033, 0.62639121, 0.37575016,\n",
       "       0.57735878, 0.19640566, 0.47894855, 0.37032686, 0.7240394 ,\n",
       "       0.36724757, 0.64063706, 0.57630375, 0.23021558, 0.54905131,\n",
       "       0.23248852, 0.08573487, 0.85674524, 0.54652002, 0.7641    ,\n",
       "       0.79567898, 0.7304472 , 0.7112515 , 0.8191282 , 0.02697398,\n",
       "       0.5602705 , 0.15249036, 0.99425523, 0.92962832, 0.62992577,\n",
       "       0.76976211, 0.33059708, 0.62192535, 0.62578271, 0.08757593,\n",
       "       0.24496636, 0.49086768, 0.80948165, 0.07451215, 0.91164242,\n",
       "       0.86089454, 0.09633777, 0.86265517, 0.38752343, 0.53210121,\n",
       "       0.57365856, 0.57848058, 0.04130501, 0.04925525, 0.93686737,\n",
       "       0.98105033, 0.78238786, 0.68115849, 0.49977045, 0.33049378,\n",
       "       0.66371666, 0.9783356 , 0.36824377, 0.75930455, 0.65731638,\n",
       "       0.38345285, 0.04776426, 0.19642257, 0.06160581, 0.02495498,\n",
       "       0.52866161, 0.25330326, 0.41581763, 0.18342218, 0.74224562,\n",
       "       0.29206095, 0.9679725 , 0.27277658, 0.33815924, 0.47716109,\n",
       "       0.75359094, 0.47877928, 0.37864551, 0.33501609, 0.02612858,\n",
       "       0.7915331 , 0.19152634, 0.10250566, 0.00483532, 0.30503892,\n",
       "       0.78530497, 0.75411923, 0.03878751, 0.16018104, 0.57490899,\n",
       "       0.04131378, 0.91559559, 0.07885009, 0.53793867, 0.41805607])"
      ]
     },
     "execution_count": 27,
     "metadata": {},
     "output_type": "execute_result"
    }
   ],
   "source": [
    "RAND_ARR = np.random.random(100)\n",
    "RAND_ARR"
   ]
  },
  {
   "cell_type": "code",
   "execution_count": 28,
   "metadata": {},
   "outputs": [
    {
     "data": {
      "text/plain": [
       "array([[0.29432738, 0.26489733, 0.42695564, ..., 0.85169994, 0.53133703,\n",
       "        0.95664713],\n",
       "       [0.93401175, 0.26774855, 0.78392033, ..., 0.08549672, 0.8140268 ,\n",
       "        0.1057051 ],\n",
       "       [0.39848697, 0.92456069, 0.31227546, ..., 0.63545794, 0.90308162,\n",
       "        0.2779707 ],\n",
       "       ...,\n",
       "       [0.44487413, 0.13805759, 0.77164979, ..., 0.33531373, 0.2982534 ,\n",
       "        0.96672101],\n",
       "       [0.60177255, 0.5022901 , 0.53022042, ..., 0.93926363, 0.18179772,\n",
       "        0.36578736],\n",
       "       [0.90611379, 0.37343191, 0.96632268, ..., 0.83921517, 0.74453912,\n",
       "        0.35274873]])"
      ]
     },
     "execution_count": 28,
     "metadata": {},
     "output_type": "execute_result"
    }
   ],
   "source": [
    "RAND_MAT = np.random.random((100, 100))\n",
    "RAND_MAT"
   ]
  },
  {
   "cell_type": "code",
   "execution_count": 29,
   "metadata": {},
   "outputs": [
    {
     "data": {
      "text/plain": [
       "array([[ 0.67801994, -1.16950977, -1.85237017, -1.46810212, -1.77688979,\n",
       "         0.44817126,  1.08676031,  0.68030814,  0.20880561, -0.95551161],\n",
       "       [ 1.00253854,  1.708216  , -1.8017643 ,  0.24274586,  0.52697581,\n",
       "         0.39576228, -0.26825802,  1.28066341,  0.58174811,  2.10071609],\n",
       "       [-0.63322321,  0.63298631, -1.32244798,  1.00643144, -0.67100825,\n",
       "        -2.15378079,  0.45074497, -0.31423393, -1.87966197, -1.01694867],\n",
       "       [ 0.93865157,  0.18429371, -0.07298082, -0.6086966 , -0.19781322,\n",
       "        -0.96581575, -0.04300216,  0.17295997, -0.93815973, -0.54355951],\n",
       "       [-1.42442407, -2.32821768, -0.94618891, -0.04822185,  0.06971495,\n",
       "        -0.67306361, -0.89634038, -2.43028983,  0.30496628, -0.7271509 ],\n",
       "       [ 1.2874525 , -1.46705867,  0.48759057, -0.9760149 , -0.15630725,\n",
       "        -0.40151399,  2.35772073, -0.94960906,  0.81279457,  2.12737181],\n",
       "       [-0.02105309, -0.36868038, -0.26163599, -0.00803611,  0.33692758,\n",
       "        -0.22431554, -1.31863973, -0.76388233, -0.97631909, -0.31289677],\n",
       "       [ 0.70395521, -0.28733144,  0.65422936, -0.55011981,  1.4452999 ,\n",
       "         1.5019567 ,  0.98950284,  0.53433278,  2.508483  ,  0.03169729],\n",
       "       [ 1.96784025,  1.62554233, -0.33926799, -1.1647641 ,  1.3200857 ,\n",
       "         0.49861312, -1.52890396,  0.46635616, -0.86759148,  0.87898865],\n",
       "       [-0.05402758,  1.06637372,  0.3568172 ,  0.45820734,  0.14214787,\n",
       "        -0.20556811, -0.1760285 , -1.13646554,  1.3220954 ,  0.17656918]])"
      ]
     },
     "execution_count": 29,
     "metadata": {},
     "output_type": "execute_result"
    }
   ],
   "source": [
    "GAUSSIAN_DISTRIBUTION = np.random.randn(10, 10) # MEAN=0 and VARIANCE=1\n",
    "GAUSSIAN_DISTRIBUTION"
   ]
  },
  {
   "cell_type": "code",
   "execution_count": 30,
   "metadata": {},
   "outputs": [
    {
     "data": {
      "text/plain": [
       "(-0.03882534649079332, 1.1296273295216326)"
      ]
     },
     "execution_count": 30,
     "metadata": {},
     "output_type": "execute_result"
    }
   ],
   "source": [
    "GAUSSIAN_DISTRIBUTION.mean(), GAUSSIAN_DISTRIBUTION.var()"
   ]
  },
  {
   "cell_type": "markdown",
   "metadata": {},
   "source": [
    "## Matrix Multiplication\n",
    "\n",
    "+ inner dimension must be equal\n",
    "    + cols of left matrix must be equal to rows of right matrix\n",
    "    \n",
    "\\begin{equation}\n",
    "C_{ij} = \\sum_{k=1}^k A(i, k) B(k, j)\n",
    "\\end{equation}"
   ]
  },
  {
   "cell_type": "code",
   "execution_count": 31,
   "metadata": {},
   "outputs": [
    {
     "data": {
      "text/plain": [
       "matrix([[ 7, 10],\n",
       "        [15, 22]])"
      ]
     },
     "execution_count": 31,
     "metadata": {},
     "output_type": "execute_result"
    }
   ],
   "source": [
    "np.matmul(MATRIX_1, MATRIX_2)"
   ]
  },
  {
   "cell_type": "markdown",
   "metadata": {},
   "source": [
    "## More on Matrix"
   ]
  },
  {
   "cell_type": "markdown",
   "metadata": {},
   "source": [
    "**Matrix inverse**"
   ]
  },
  {
   "cell_type": "code",
   "execution_count": 32,
   "metadata": {},
   "outputs": [
    {
     "data": {
      "text/plain": [
       "array([[-2. ,  1. ],\n",
       "       [ 1.5, -0.5]])"
      ]
     },
     "execution_count": 32,
     "metadata": {},
     "output_type": "execute_result"
    }
   ],
   "source": [
    "MAT1_INV = np.linalg.inv(MATRIX_1)\n",
    "MAT1_INV"
   ]
  },
  {
   "cell_type": "markdown",
   "metadata": {},
   "source": [
    "**Getting identity matrix**"
   ]
  },
  {
   "cell_type": "code",
   "execution_count": 33,
   "metadata": {},
   "outputs": [
    {
     "data": {
      "text/plain": [
       "array([[1.00000000e+00, 0.00000000e+00],\n",
       "       [2.22044605e-16, 1.00000000e+00]])"
      ]
     },
     "execution_count": 33,
     "metadata": {},
     "output_type": "execute_result"
    }
   ],
   "source": [
    "MAT1_INV.dot(MATRIX_1)"
   ]
  },
  {
   "cell_type": "markdown",
   "metadata": {},
   "source": [
    "**Determinant of a Matrix**"
   ]
  },
  {
   "cell_type": "code",
   "execution_count": 34,
   "metadata": {},
   "outputs": [
    {
     "data": {
      "text/plain": [
       "-2.0000000000000004"
      ]
     },
     "execution_count": 34,
     "metadata": {},
     "output_type": "execute_result"
    }
   ],
   "source": [
    "np.linalg.det(MATRIX_1)"
   ]
  },
  {
   "cell_type": "markdown",
   "metadata": {},
   "source": [
    "**Diagonal Elements**"
   ]
  },
  {
   "cell_type": "code",
   "execution_count": 35,
   "metadata": {},
   "outputs": [
    {
     "data": {
      "text/plain": [
       "array([1, 4])"
      ]
     },
     "execution_count": 35,
     "metadata": {},
     "output_type": "execute_result"
    }
   ],
   "source": [
    "np.diag(MATRIX_1)"
   ]
  },
  {
   "cell_type": "markdown",
   "metadata": {},
   "source": [
    "**Getting a matrix with custom diagonal**"
   ]
  },
  {
   "cell_type": "code",
   "execution_count": 36,
   "metadata": {},
   "outputs": [
    {
     "data": {
      "text/plain": [
       "array([[1, 0],\n",
       "       [0, 4]])"
      ]
     },
     "execution_count": 36,
     "metadata": {},
     "output_type": "execute_result"
    }
   ],
   "source": [
    "np.diag(np.diag(MATRIX_1))"
   ]
  },
  {
   "cell_type": "markdown",
   "metadata": {},
   "source": [
    "**Inner vs Outer Product**"
   ]
  },
  {
   "cell_type": "code",
   "execution_count": 37,
   "metadata": {},
   "outputs": [
    {
     "data": {
      "text/plain": [
       "4"
      ]
     },
     "execution_count": 37,
     "metadata": {},
     "output_type": "execute_result"
    }
   ],
   "source": [
    "np.inner(A, B) # also called dot product"
   ]
  },
  {
   "cell_type": "code",
   "execution_count": 38,
   "metadata": {},
   "outputs": [
    {
     "data": {
      "text/plain": [
       "array([[2, 1],\n",
       "       [4, 2]])"
      ]
     },
     "execution_count": 38,
     "metadata": {},
     "output_type": "execute_result"
    }
   ],
   "source": [
    "np.outer(A, B) # also called cross product"
   ]
  },
  {
   "cell_type": "markdown",
   "metadata": {},
   "source": [
    "**Sum of diagonal of a matrix**"
   ]
  },
  {
   "cell_type": "code",
   "execution_count": 39,
   "metadata": {},
   "outputs": [
    {
     "data": {
      "text/plain": [
       "5"
      ]
     },
     "execution_count": 39,
     "metadata": {},
     "output_type": "execute_result"
    }
   ],
   "source": [
    "np.trace(MATRIX_1)"
   ]
  },
  {
   "cell_type": "markdown",
   "metadata": {},
   "source": [
    "**Eigenvalue and Eigenvectors**"
   ]
  },
  {
   "cell_type": "code",
   "execution_count": 40,
   "metadata": {},
   "outputs": [
    {
     "data": {
      "text/plain": [
       "(array([-0.37228132,  5.37228132]), array([[-0.82456484, -0.41597356],\n",
       "        [ 0.56576746, -0.90937671]]))"
      ]
     },
     "execution_count": 40,
     "metadata": {},
     "output_type": "execute_result"
    }
   ],
   "source": [
    "np.linalg.eig(MATRIX_1)"
   ]
  },
  {
   "cell_type": "code",
   "execution_count": 41,
   "metadata": {},
   "outputs": [
    {
     "data": {
      "text/plain": [
       "(array([-0.85410197,  5.85410197]), array([[-0.85065081,  0.52573111],\n",
       "        [ 0.52573111,  0.85065081]]))"
      ]
     },
     "execution_count": 41,
     "metadata": {},
     "output_type": "execute_result"
    }
   ],
   "source": [
    "np.linalg.eigh(MATRIX_1)"
   ]
  },
  {
   "cell_type": "markdown",
   "metadata": {},
   "source": [
    "Now you might be thinking of the difference between `.eig()` and `.eigh()`\n",
    "\n",
    "Follow the link, https://stackoverflow.com/a/45435548/10362396"
   ]
  },
  {
   "cell_type": "markdown",
   "metadata": {},
   "source": [
    "## Solving Linear Equation\n",
    "\n",
    "### Problem\n",
    "\n",
    "\\begin{equation}\n",
    "Ax = b\n",
    "\\end{equation}\n",
    "\n",
    "`A`, is a matrix\n",
    "\n",
    "`x`, is a column variables we are trying to solve\n",
    "\n",
    "`b`, is a vector of numbers\n",
    "\n",
    "### Solution:\n",
    "\n",
    "\\begin{equation}\n",
    "A^{-1}Ax = x = A^{-1}b\n",
    "\\end{equation}"
   ]
  },
  {
   "cell_type": "code",
   "execution_count": 42,
   "metadata": {},
   "outputs": [],
   "source": [
    "A = np.array([ [1, 2], [3, 4] ])\n",
    "b = np.array([1, 2])"
   ]
  },
  {
   "cell_type": "code",
   "execution_count": 43,
   "metadata": {},
   "outputs": [
    {
     "data": {
      "text/plain": [
       "array([0. , 0.5])"
      ]
     },
     "execution_count": 43,
     "metadata": {},
     "output_type": "execute_result"
    }
   ],
   "source": [
    "x = np.linalg.inv(A).dot(b)\n",
    "x"
   ]
  },
  {
   "cell_type": "markdown",
   "metadata": {},
   "source": [
    "**The shortcut**"
   ]
  },
  {
   "cell_type": "code",
   "execution_count": 44,
   "metadata": {},
   "outputs": [
    {
     "data": {
      "text/plain": [
       "array([0. , 0.5])"
      ]
     },
     "execution_count": 44,
     "metadata": {},
     "output_type": "execute_result"
    }
   ],
   "source": [
    "x = np.linalg.solve(A, b)\n",
    "x"
   ]
  },
  {
   "cell_type": "markdown",
   "metadata": {},
   "source": [
    "# Pandas\n",
    "\n",
    "+ library for data manipulation and analysis\n",
    "+ offers data structures and operations for manipulating numerical tables and time series\n",
    "\n",
    "Installing pandas\n",
    "\n",
    "    $ pip install -U pandas"
   ]
  },
  {
   "cell_type": "markdown",
   "metadata": {},
   "source": [
    "## Data frames\n",
    "\n",
    "+ table like data structure\n"
   ]
  },
  {
   "cell_type": "code",
   "execution_count": 45,
   "metadata": {},
   "outputs": [],
   "source": [
    "import pandas as pd"
   ]
  },
  {
   "cell_type": "code",
   "execution_count": 46,
   "metadata": {},
   "outputs": [
    {
     "data": {
      "text/html": [
       "<div>\n",
       "<style scoped>\n",
       "    .dataframe tbody tr th:only-of-type {\n",
       "        vertical-align: middle;\n",
       "    }\n",
       "\n",
       "    .dataframe tbody tr th {\n",
       "        vertical-align: top;\n",
       "    }\n",
       "\n",
       "    .dataframe thead th {\n",
       "        text-align: right;\n",
       "    }\n",
       "</style>\n",
       "<table border=\"1\" class=\"dataframe\">\n",
       "  <thead>\n",
       "    <tr style=\"text-align: right;\">\n",
       "      <th></th>\n",
       "      <th>Start Date</th>\n",
       "      <th>Start Time</th>\n",
       "      <th>End Date</th>\n",
       "      <th>End Time</th>\n",
       "      <th>Event Title</th>\n",
       "      <th>Event Description</th>\n",
       "      <th>All Day Event</th>\n",
       "      <th>No End Time</th>\n",
       "      <th>Contact</th>\n",
       "      <th>Contact Email</th>\n",
       "      <th>Contact Phone</th>\n",
       "      <th>Location</th>\n",
       "      <th>Category</th>\n",
       "      <th>Registration</th>\n",
       "      <th>Maximum Seats</th>\n",
       "      <th>Last Date To Register</th>\n",
       "    </tr>\n",
       "  </thead>\n",
       "  <tbody>\n",
       "    <tr>\n",
       "      <th>0</th>\n",
       "      <td>10/5/13</td>\n",
       "      <td>7:00 AM</td>\n",
       "      <td>10/5/13</td>\n",
       "      <td>7:30 AM</td>\n",
       "      <td>Parent Teacher Conference</td>\n",
       "      <td>Register for a half hour parent teacher confer...</td>\n",
       "      <td>N</td>\n",
       "      <td>N</td>\n",
       "      <td>Chris Gallagher</td>\n",
       "      <td>cgallagher@schoolwires.com</td>\n",
       "      <td>814-555-5179</td>\n",
       "      <td>Room 203</td>\n",
       "      <td>2</td>\n",
       "      <td>Y</td>\n",
       "      <td>1</td>\n",
       "      <td>10/4/13</td>\n",
       "    </tr>\n",
       "    <tr>\n",
       "      <th>1</th>\n",
       "      <td>10/5/13</td>\n",
       "      <td>7:30 AM</td>\n",
       "      <td>10/5/13</td>\n",
       "      <td>8:00 AM</td>\n",
       "      <td>Parent Teacher Conference</td>\n",
       "      <td>Register for a half hour parent teacher confer...</td>\n",
       "      <td>N</td>\n",
       "      <td>N</td>\n",
       "      <td>Chris Gallagher</td>\n",
       "      <td>cgallagher@schoolwires.com</td>\n",
       "      <td>814-555-5179</td>\n",
       "      <td>Room 203</td>\n",
       "      <td>2</td>\n",
       "      <td>Y</td>\n",
       "      <td>1</td>\n",
       "      <td>10/4/13</td>\n",
       "    </tr>\n",
       "    <tr>\n",
       "      <th>2</th>\n",
       "      <td>10/5/13</td>\n",
       "      <td>8:00 AM</td>\n",
       "      <td>10/5/13</td>\n",
       "      <td>8:30 AM</td>\n",
       "      <td>Parent Teacher Conference</td>\n",
       "      <td>Register for a half hour parent teacher confer...</td>\n",
       "      <td>N</td>\n",
       "      <td>N</td>\n",
       "      <td>Chris Gallagher</td>\n",
       "      <td>cgallagher@schoolwires.com</td>\n",
       "      <td>814-555-5179</td>\n",
       "      <td>Room 203</td>\n",
       "      <td>2</td>\n",
       "      <td>Y</td>\n",
       "      <td>1</td>\n",
       "      <td>10/4/13</td>\n",
       "    </tr>\n",
       "    <tr>\n",
       "      <th>3</th>\n",
       "      <td>10/5/13</td>\n",
       "      <td>8:30 AM</td>\n",
       "      <td>10/5/13</td>\n",
       "      <td>9:00 AM</td>\n",
       "      <td>Parent Teacher Conference</td>\n",
       "      <td>Register for a half hour parent teacher confer...</td>\n",
       "      <td>N</td>\n",
       "      <td>N</td>\n",
       "      <td>Chris Gallagher</td>\n",
       "      <td>cgallagher@schoolwires.com</td>\n",
       "      <td>814-555-5179</td>\n",
       "      <td>Room 203</td>\n",
       "      <td>2</td>\n",
       "      <td>Y</td>\n",
       "      <td>1</td>\n",
       "      <td>10/4/13</td>\n",
       "    </tr>\n",
       "    <tr>\n",
       "      <th>4</th>\n",
       "      <td>10/5/13</td>\n",
       "      <td>9:00 AM</td>\n",
       "      <td>10/5/13</td>\n",
       "      <td>9:30 AM</td>\n",
       "      <td>Parent Teacher Conference</td>\n",
       "      <td>Register for a half hour parent teacher confer...</td>\n",
       "      <td>N</td>\n",
       "      <td>N</td>\n",
       "      <td>Chris Gallagher</td>\n",
       "      <td>cgallagher@schoolwires.com</td>\n",
       "      <td>814-555-5179</td>\n",
       "      <td>Room 203</td>\n",
       "      <td>2</td>\n",
       "      <td>Y</td>\n",
       "      <td>1</td>\n",
       "      <td>10/4/13</td>\n",
       "    </tr>\n",
       "  </tbody>\n",
       "</table>\n",
       "</div>"
      ],
      "text/plain": [
       "  Start Date  Start Time End Date End Time               Event Title   \\\n",
       "0     10/5/13    7:00 AM  10/5/13  7:30 AM  Parent Teacher Conference   \n",
       "1     10/5/13    7:30 AM  10/5/13  8:00 AM  Parent Teacher Conference   \n",
       "2     10/5/13    8:00 AM  10/5/13  8:30 AM  Parent Teacher Conference   \n",
       "3     10/5/13    8:30 AM  10/5/13  9:00 AM  Parent Teacher Conference   \n",
       "4     10/5/13    9:00 AM  10/5/13  9:30 AM  Parent Teacher Conference   \n",
       "\n",
       "                                   Event Description All Day Event  \\\n",
       "0  Register for a half hour parent teacher confer...             N   \n",
       "1  Register for a half hour parent teacher confer...             N   \n",
       "2  Register for a half hour parent teacher confer...             N   \n",
       "3  Register for a half hour parent teacher confer...             N   \n",
       "4  Register for a half hour parent teacher confer...             N   \n",
       "\n",
       "  No End Time         Contact                Contact Email Contact Phone  \\\n",
       "0           N  Chris Gallagher  cgallagher@schoolwires.com  814-555-5179   \n",
       "1           N  Chris Gallagher  cgallagher@schoolwires.com  814-555-5179   \n",
       "2           N  Chris Gallagher  cgallagher@schoolwires.com  814-555-5179   \n",
       "3           N  Chris Gallagher  cgallagher@schoolwires.com  814-555-5179   \n",
       "4           N  Chris Gallagher  cgallagher@schoolwires.com  814-555-5179   \n",
       "\n",
       "   Location  Category Registration  Maximum Seats Last Date To Register  \n",
       "0  Room 203         2            Y              1               10/4/13  \n",
       "1  Room 203         2            Y              1               10/4/13  \n",
       "2  Room 203         2            Y              1               10/4/13  \n",
       "3  Room 203         2            Y              1               10/4/13  \n",
       "4  Room 203         2            Y              1               10/4/13  "
      ]
     },
     "execution_count": 46,
     "metadata": {},
     "output_type": "execute_result"
    }
   ],
   "source": [
    "df = pd.read_csv(\"sample.csv\")\n",
    "df.head(5) # getting top 5 rows of pandas"
   ]
  },
  {
   "cell_type": "markdown",
   "metadata": {},
   "source": [
    "**Printing columns**"
   ]
  },
  {
   "cell_type": "code",
   "execution_count": 47,
   "metadata": {},
   "outputs": [
    {
     "data": {
      "text/plain": [
       "Index(['Start Date ', 'Start Time', 'End Date', 'End Time', 'Event Title ',\n",
       "       'Event Description', 'All Day Event', 'No End Time', 'Contact ',\n",
       "       'Contact Email', 'Contact Phone', 'Location', 'Category',\n",
       "       'Registration', 'Maximum Seats', 'Last Date To Register'],\n",
       "      dtype='object')"
      ]
     },
     "execution_count": 47,
     "metadata": {},
     "output_type": "execute_result"
    }
   ],
   "source": [
    "df.columns"
   ]
  },
  {
   "cell_type": "markdown",
   "metadata": {},
   "source": [
    "**Getting info of the dataframe**"
   ]
  },
  {
   "cell_type": "code",
   "execution_count": 48,
   "metadata": {},
   "outputs": [
    {
     "name": "stdout",
     "output_type": "stream",
     "text": [
      "<class 'pandas.core.frame.DataFrame'>\n",
      "RangeIndex: 24 entries, 0 to 23\n",
      "Data columns (total 16 columns):\n",
      "Start Date               24 non-null object\n",
      "Start Time               24 non-null object\n",
      "End Date                 24 non-null object\n",
      "End Time                 24 non-null object\n",
      "Event Title              24 non-null object\n",
      "Event Description        24 non-null object\n",
      "All Day Event            24 non-null object\n",
      "No End Time              24 non-null object\n",
      "Contact                  24 non-null object\n",
      "Contact Email            24 non-null object\n",
      "Contact Phone            24 non-null object\n",
      "Location                 24 non-null object\n",
      "Category                 24 non-null int64\n",
      "Registration             24 non-null object\n",
      "Maximum Seats            24 non-null int64\n",
      "Last Date To Register    24 non-null object\n",
      "dtypes: int64(2), object(14)\n",
      "memory usage: 3.1+ KB\n"
     ]
    }
   ],
   "source": [
    "df.info()"
   ]
  },
  {
   "cell_type": "markdown",
   "metadata": {},
   "source": [
    "**Converting dataframe to matrix**"
   ]
  },
  {
   "cell_type": "code",
   "execution_count": 49,
   "metadata": {},
   "outputs": [
    {
     "data": {
      "text/plain": [
       "numpy.ndarray"
      ]
     },
     "execution_count": 49,
     "metadata": {},
     "output_type": "execute_result"
    }
   ],
   "source": [
    "M = df.values\n",
    "type(M)"
   ]
  },
  {
   "cell_type": "code",
   "execution_count": 50,
   "metadata": {},
   "outputs": [
    {
     "data": {
      "text/plain": [
       "'10/5/13'"
      ]
     },
     "execution_count": 50,
     "metadata": {},
     "output_type": "execute_result"
    }
   ],
   "source": [
    "M[0, 0]"
   ]
  },
  {
   "cell_type": "markdown",
   "metadata": {},
   "source": [
    "**Getting Row by Index**"
   ]
  },
  {
   "cell_type": "code",
   "execution_count": 51,
   "metadata": {},
   "outputs": [
    {
     "data": {
      "text/plain": [
       "Start Date                                                         10/5/13\n",
       "Start Time                                                         7:00 AM\n",
       "End Date                                                           10/5/13\n",
       "End Time                                                           7:30 AM\n",
       "Event Title                                      Parent Teacher Conference\n",
       "Event Description        Register for a half hour parent teacher confer...\n",
       "All Day Event                                                            N\n",
       "No End Time                                                              N\n",
       "Contact                                                    Chris Gallagher\n",
       "Contact Email                                   cgallagher@schoolwires.com\n",
       "Contact Phone                                                 814-555-5179\n",
       "Location                                                          Room 203\n",
       "Category                                                                 2\n",
       "Registration                                                             Y\n",
       "Maximum Seats                                                            1\n",
       "Last Date To Register                                              10/4/13\n",
       "Name: 0, dtype: object"
      ]
     },
     "execution_count": 51,
     "metadata": {},
     "output_type": "execute_result"
    }
   ],
   "source": [
    "df.iloc[0]"
   ]
  },
  {
   "cell_type": "markdown",
   "metadata": {},
   "source": [
    "**Getting Columns by Column Name**"
   ]
  },
  {
   "cell_type": "code",
   "execution_count": 52,
   "metadata": {},
   "outputs": [
    {
     "data": {
      "text/plain": [
       "0     10/5/13\n",
       "1     10/5/13\n",
       "2     10/5/13\n",
       "3     10/5/13\n",
       "4     10/5/13\n",
       "5     10/5/13\n",
       "6     10/5/13\n",
       "7     10/5/13\n",
       "8     10/5/13\n",
       "9     10/5/13\n",
       "10    10/5/13\n",
       "11    10/5/13\n",
       "12    10/5/13\n",
       "13    10/5/13\n",
       "14    10/5/13\n",
       "15    10/5/13\n",
       "16    10/5/13\n",
       "17    10/5/13\n",
       "18    10/5/13\n",
       "19    10/5/13\n",
       "20    10/5/13\n",
       "21    10/5/13\n",
       "22    10/5/13\n",
       "23    10/5/13\n",
       "Name: Start Date , dtype: object"
      ]
     },
     "execution_count": 52,
     "metadata": {},
     "output_type": "execute_result"
    }
   ],
   "source": [
    "df[\"Start Date \"]"
   ]
  },
  {
   "cell_type": "markdown",
   "metadata": {},
   "source": [
    "**Getting start date and start time**"
   ]
  },
  {
   "cell_type": "code",
   "execution_count": 53,
   "metadata": {},
   "outputs": [
    {
     "data": {
      "text/html": [
       "<div>\n",
       "<style scoped>\n",
       "    .dataframe tbody tr th:only-of-type {\n",
       "        vertical-align: middle;\n",
       "    }\n",
       "\n",
       "    .dataframe tbody tr th {\n",
       "        vertical-align: top;\n",
       "    }\n",
       "\n",
       "    .dataframe thead th {\n",
       "        text-align: right;\n",
       "    }\n",
       "</style>\n",
       "<table border=\"1\" class=\"dataframe\">\n",
       "  <thead>\n",
       "    <tr style=\"text-align: right;\">\n",
       "      <th></th>\n",
       "      <th>Start Date</th>\n",
       "      <th>Start Time</th>\n",
       "    </tr>\n",
       "  </thead>\n",
       "  <tbody>\n",
       "    <tr>\n",
       "      <th>0</th>\n",
       "      <td>10/5/13</td>\n",
       "      <td>7:00 AM</td>\n",
       "    </tr>\n",
       "    <tr>\n",
       "      <th>1</th>\n",
       "      <td>10/5/13</td>\n",
       "      <td>7:30 AM</td>\n",
       "    </tr>\n",
       "    <tr>\n",
       "      <th>2</th>\n",
       "      <td>10/5/13</td>\n",
       "      <td>8:00 AM</td>\n",
       "    </tr>\n",
       "    <tr>\n",
       "      <th>3</th>\n",
       "      <td>10/5/13</td>\n",
       "      <td>8:30 AM</td>\n",
       "    </tr>\n",
       "    <tr>\n",
       "      <th>4</th>\n",
       "      <td>10/5/13</td>\n",
       "      <td>9:00 AM</td>\n",
       "    </tr>\n",
       "    <tr>\n",
       "      <th>5</th>\n",
       "      <td>10/5/13</td>\n",
       "      <td>9:30 AM</td>\n",
       "    </tr>\n",
       "    <tr>\n",
       "      <th>6</th>\n",
       "      <td>10/5/13</td>\n",
       "      <td>10:00 AM</td>\n",
       "    </tr>\n",
       "    <tr>\n",
       "      <th>7</th>\n",
       "      <td>10/5/13</td>\n",
       "      <td>10:30 AM</td>\n",
       "    </tr>\n",
       "    <tr>\n",
       "      <th>8</th>\n",
       "      <td>10/5/13</td>\n",
       "      <td>11:00 AM</td>\n",
       "    </tr>\n",
       "    <tr>\n",
       "      <th>9</th>\n",
       "      <td>10/5/13</td>\n",
       "      <td>11:30 AM</td>\n",
       "    </tr>\n",
       "    <tr>\n",
       "      <th>10</th>\n",
       "      <td>10/5/13</td>\n",
       "      <td>12:00 PM</td>\n",
       "    </tr>\n",
       "    <tr>\n",
       "      <th>11</th>\n",
       "      <td>10/5/13</td>\n",
       "      <td>12:30 PM</td>\n",
       "    </tr>\n",
       "    <tr>\n",
       "      <th>12</th>\n",
       "      <td>10/5/13</td>\n",
       "      <td>1:00 PM</td>\n",
       "    </tr>\n",
       "    <tr>\n",
       "      <th>13</th>\n",
       "      <td>10/5/13</td>\n",
       "      <td>1:30 PM</td>\n",
       "    </tr>\n",
       "    <tr>\n",
       "      <th>14</th>\n",
       "      <td>10/5/13</td>\n",
       "      <td>2:00 PM</td>\n",
       "    </tr>\n",
       "    <tr>\n",
       "      <th>15</th>\n",
       "      <td>10/5/13</td>\n",
       "      <td>2:30 PM</td>\n",
       "    </tr>\n",
       "    <tr>\n",
       "      <th>16</th>\n",
       "      <td>10/5/13</td>\n",
       "      <td>3:00 PM</td>\n",
       "    </tr>\n",
       "    <tr>\n",
       "      <th>17</th>\n",
       "      <td>10/5/13</td>\n",
       "      <td>3:30 PM</td>\n",
       "    </tr>\n",
       "    <tr>\n",
       "      <th>18</th>\n",
       "      <td>10/5/13</td>\n",
       "      <td>4:00 PM</td>\n",
       "    </tr>\n",
       "    <tr>\n",
       "      <th>19</th>\n",
       "      <td>10/5/13</td>\n",
       "      <td>4:30 PM</td>\n",
       "    </tr>\n",
       "    <tr>\n",
       "      <th>20</th>\n",
       "      <td>10/5/13</td>\n",
       "      <td>5:00 PM</td>\n",
       "    </tr>\n",
       "    <tr>\n",
       "      <th>21</th>\n",
       "      <td>10/5/13</td>\n",
       "      <td>5:30 PM</td>\n",
       "    </tr>\n",
       "    <tr>\n",
       "      <th>22</th>\n",
       "      <td>10/5/13</td>\n",
       "      <td>6:00 PM</td>\n",
       "    </tr>\n",
       "    <tr>\n",
       "      <th>23</th>\n",
       "      <td>10/5/13</td>\n",
       "      <td>6:30 PM</td>\n",
       "    </tr>\n",
       "  </tbody>\n",
       "</table>\n",
       "</div>"
      ],
      "text/plain": [
       "   Start Date  Start Time\n",
       "0      10/5/13    7:00 AM\n",
       "1      10/5/13    7:30 AM\n",
       "2      10/5/13    8:00 AM\n",
       "3      10/5/13    8:30 AM\n",
       "4      10/5/13    9:00 AM\n",
       "5      10/5/13    9:30 AM\n",
       "6      10/5/13   10:00 AM\n",
       "7      10/5/13   10:30 AM\n",
       "8      10/5/13   11:00 AM\n",
       "9      10/5/13   11:30 AM\n",
       "10     10/5/13   12:00 PM\n",
       "11     10/5/13   12:30 PM\n",
       "12     10/5/13    1:00 PM\n",
       "13     10/5/13    1:30 PM\n",
       "14     10/5/13    2:00 PM\n",
       "15     10/5/13    2:30 PM\n",
       "16     10/5/13    3:00 PM\n",
       "17     10/5/13    3:30 PM\n",
       "18     10/5/13    4:00 PM\n",
       "19     10/5/13    4:30 PM\n",
       "20     10/5/13    5:00 PM\n",
       "21     10/5/13    5:30 PM\n",
       "22     10/5/13    6:00 PM\n",
       "23     10/5/13    6:30 PM"
      ]
     },
     "execution_count": 53,
     "metadata": {},
     "output_type": "execute_result"
    }
   ],
   "source": [
    "df[ [\"Start Date \", \"Start Time\"] ]"
   ]
  },
  {
   "cell_type": "markdown",
   "metadata": {},
   "source": [
    "**Quering the dataframe**"
   ]
  },
  {
   "cell_type": "code",
   "execution_count": 54,
   "metadata": {
    "scrolled": true
   },
   "outputs": [
    {
     "data": {
      "text/html": [
       "<div>\n",
       "<style scoped>\n",
       "    .dataframe tbody tr th:only-of-type {\n",
       "        vertical-align: middle;\n",
       "    }\n",
       "\n",
       "    .dataframe tbody tr th {\n",
       "        vertical-align: top;\n",
       "    }\n",
       "\n",
       "    .dataframe thead th {\n",
       "        text-align: right;\n",
       "    }\n",
       "</style>\n",
       "<table border=\"1\" class=\"dataframe\">\n",
       "  <thead>\n",
       "    <tr style=\"text-align: right;\">\n",
       "      <th></th>\n",
       "      <th>Start Date</th>\n",
       "      <th>Start Time</th>\n",
       "      <th>End Date</th>\n",
       "      <th>End Time</th>\n",
       "      <th>Event Title</th>\n",
       "      <th>Event Description</th>\n",
       "      <th>All Day Event</th>\n",
       "      <th>No End Time</th>\n",
       "      <th>Contact</th>\n",
       "      <th>Contact Email</th>\n",
       "      <th>Contact Phone</th>\n",
       "      <th>Location</th>\n",
       "      <th>Category</th>\n",
       "      <th>Registration</th>\n",
       "      <th>Maximum Seats</th>\n",
       "      <th>Last Date To Register</th>\n",
       "    </tr>\n",
       "  </thead>\n",
       "  <tbody>\n",
       "    <tr>\n",
       "      <th>1</th>\n",
       "      <td>10/5/13</td>\n",
       "      <td>7:30 AM</td>\n",
       "      <td>10/5/13</td>\n",
       "      <td>8:00 AM</td>\n",
       "      <td>Parent Teacher Conference</td>\n",
       "      <td>Register for a half hour parent teacher confer...</td>\n",
       "      <td>N</td>\n",
       "      <td>N</td>\n",
       "      <td>Chris Gallagher</td>\n",
       "      <td>cgallagher@schoolwires.com</td>\n",
       "      <td>814-555-5179</td>\n",
       "      <td>Room 203</td>\n",
       "      <td>2</td>\n",
       "      <td>Y</td>\n",
       "      <td>1</td>\n",
       "      <td>10/4/13</td>\n",
       "    </tr>\n",
       "  </tbody>\n",
       "</table>\n",
       "</div>"
      ],
      "text/plain": [
       "  Start Date  Start Time End Date End Time               Event Title   \\\n",
       "1     10/5/13    7:30 AM  10/5/13  8:00 AM  Parent Teacher Conference   \n",
       "\n",
       "                                   Event Description All Day Event  \\\n",
       "1  Register for a half hour parent teacher confer...             N   \n",
       "\n",
       "  No End Time         Contact                Contact Email Contact Phone  \\\n",
       "1           N  Chris Gallagher  cgallagher@schoolwires.com  814-555-5179   \n",
       "\n",
       "   Location  Category Registration  Maximum Seats Last Date To Register  \n",
       "1  Room 203         2            Y              1               10/4/13  "
      ]
     },
     "execution_count": 54,
     "metadata": {},
     "output_type": "execute_result"
    }
   ],
   "source": [
    "df[ df[\"Start Time\"] == \"7:30 AM\"] # getting a row with start time = 7:30 AM"
   ]
  },
  {
   "cell_type": "markdown",
   "metadata": {},
   "source": [
    "**Adding a column with all same values**"
   ]
  },
  {
   "cell_type": "code",
   "execution_count": 55,
   "metadata": {},
   "outputs": [
    {
     "data": {
      "text/html": [
       "<div>\n",
       "<style scoped>\n",
       "    .dataframe tbody tr th:only-of-type {\n",
       "        vertical-align: middle;\n",
       "    }\n",
       "\n",
       "    .dataframe tbody tr th {\n",
       "        vertical-align: top;\n",
       "    }\n",
       "\n",
       "    .dataframe thead th {\n",
       "        text-align: right;\n",
       "    }\n",
       "</style>\n",
       "<table border=\"1\" class=\"dataframe\">\n",
       "  <thead>\n",
       "    <tr style=\"text-align: right;\">\n",
       "      <th></th>\n",
       "      <th>Start Date</th>\n",
       "      <th>Start Time</th>\n",
       "      <th>End Date</th>\n",
       "      <th>End Time</th>\n",
       "      <th>Event Title</th>\n",
       "      <th>Event Description</th>\n",
       "      <th>All Day Event</th>\n",
       "      <th>No End Time</th>\n",
       "      <th>Contact</th>\n",
       "      <th>Contact Email</th>\n",
       "      <th>Contact Phone</th>\n",
       "      <th>Location</th>\n",
       "      <th>Category</th>\n",
       "      <th>Registration</th>\n",
       "      <th>Maximum Seats</th>\n",
       "      <th>Last Date To Register</th>\n",
       "      <th>new_col</th>\n",
       "    </tr>\n",
       "  </thead>\n",
       "  <tbody>\n",
       "    <tr>\n",
       "      <th>0</th>\n",
       "      <td>10/5/13</td>\n",
       "      <td>7:00 AM</td>\n",
       "      <td>10/5/13</td>\n",
       "      <td>7:30 AM</td>\n",
       "      <td>Parent Teacher Conference</td>\n",
       "      <td>Register for a half hour parent teacher confer...</td>\n",
       "      <td>N</td>\n",
       "      <td>N</td>\n",
       "      <td>Chris Gallagher</td>\n",
       "      <td>cgallagher@schoolwires.com</td>\n",
       "      <td>814-555-5179</td>\n",
       "      <td>Room 203</td>\n",
       "      <td>2</td>\n",
       "      <td>Y</td>\n",
       "      <td>1</td>\n",
       "      <td>10/4/13</td>\n",
       "      <td>new_col_value</td>\n",
       "    </tr>\n",
       "    <tr>\n",
       "      <th>1</th>\n",
       "      <td>10/5/13</td>\n",
       "      <td>7:30 AM</td>\n",
       "      <td>10/5/13</td>\n",
       "      <td>8:00 AM</td>\n",
       "      <td>Parent Teacher Conference</td>\n",
       "      <td>Register for a half hour parent teacher confer...</td>\n",
       "      <td>N</td>\n",
       "      <td>N</td>\n",
       "      <td>Chris Gallagher</td>\n",
       "      <td>cgallagher@schoolwires.com</td>\n",
       "      <td>814-555-5179</td>\n",
       "      <td>Room 203</td>\n",
       "      <td>2</td>\n",
       "      <td>Y</td>\n",
       "      <td>1</td>\n",
       "      <td>10/4/13</td>\n",
       "      <td>new_col_value</td>\n",
       "    </tr>\n",
       "    <tr>\n",
       "      <th>2</th>\n",
       "      <td>10/5/13</td>\n",
       "      <td>8:00 AM</td>\n",
       "      <td>10/5/13</td>\n",
       "      <td>8:30 AM</td>\n",
       "      <td>Parent Teacher Conference</td>\n",
       "      <td>Register for a half hour parent teacher confer...</td>\n",
       "      <td>N</td>\n",
       "      <td>N</td>\n",
       "      <td>Chris Gallagher</td>\n",
       "      <td>cgallagher@schoolwires.com</td>\n",
       "      <td>814-555-5179</td>\n",
       "      <td>Room 203</td>\n",
       "      <td>2</td>\n",
       "      <td>Y</td>\n",
       "      <td>1</td>\n",
       "      <td>10/4/13</td>\n",
       "      <td>new_col_value</td>\n",
       "    </tr>\n",
       "    <tr>\n",
       "      <th>3</th>\n",
       "      <td>10/5/13</td>\n",
       "      <td>8:30 AM</td>\n",
       "      <td>10/5/13</td>\n",
       "      <td>9:00 AM</td>\n",
       "      <td>Parent Teacher Conference</td>\n",
       "      <td>Register for a half hour parent teacher confer...</td>\n",
       "      <td>N</td>\n",
       "      <td>N</td>\n",
       "      <td>Chris Gallagher</td>\n",
       "      <td>cgallagher@schoolwires.com</td>\n",
       "      <td>814-555-5179</td>\n",
       "      <td>Room 203</td>\n",
       "      <td>2</td>\n",
       "      <td>Y</td>\n",
       "      <td>1</td>\n",
       "      <td>10/4/13</td>\n",
       "      <td>new_col_value</td>\n",
       "    </tr>\n",
       "    <tr>\n",
       "      <th>4</th>\n",
       "      <td>10/5/13</td>\n",
       "      <td>9:00 AM</td>\n",
       "      <td>10/5/13</td>\n",
       "      <td>9:30 AM</td>\n",
       "      <td>Parent Teacher Conference</td>\n",
       "      <td>Register for a half hour parent teacher confer...</td>\n",
       "      <td>N</td>\n",
       "      <td>N</td>\n",
       "      <td>Chris Gallagher</td>\n",
       "      <td>cgallagher@schoolwires.com</td>\n",
       "      <td>814-555-5179</td>\n",
       "      <td>Room 203</td>\n",
       "      <td>2</td>\n",
       "      <td>Y</td>\n",
       "      <td>1</td>\n",
       "      <td>10/4/13</td>\n",
       "      <td>new_col_value</td>\n",
       "    </tr>\n",
       "  </tbody>\n",
       "</table>\n",
       "</div>"
      ],
      "text/plain": [
       "  Start Date  Start Time End Date End Time               Event Title   \\\n",
       "0     10/5/13    7:00 AM  10/5/13  7:30 AM  Parent Teacher Conference   \n",
       "1     10/5/13    7:30 AM  10/5/13  8:00 AM  Parent Teacher Conference   \n",
       "2     10/5/13    8:00 AM  10/5/13  8:30 AM  Parent Teacher Conference   \n",
       "3     10/5/13    8:30 AM  10/5/13  9:00 AM  Parent Teacher Conference   \n",
       "4     10/5/13    9:00 AM  10/5/13  9:30 AM  Parent Teacher Conference   \n",
       "\n",
       "                                   Event Description All Day Event  \\\n",
       "0  Register for a half hour parent teacher confer...             N   \n",
       "1  Register for a half hour parent teacher confer...             N   \n",
       "2  Register for a half hour parent teacher confer...             N   \n",
       "3  Register for a half hour parent teacher confer...             N   \n",
       "4  Register for a half hour parent teacher confer...             N   \n",
       "\n",
       "  No End Time         Contact                Contact Email Contact Phone  \\\n",
       "0           N  Chris Gallagher  cgallagher@schoolwires.com  814-555-5179   \n",
       "1           N  Chris Gallagher  cgallagher@schoolwires.com  814-555-5179   \n",
       "2           N  Chris Gallagher  cgallagher@schoolwires.com  814-555-5179   \n",
       "3           N  Chris Gallagher  cgallagher@schoolwires.com  814-555-5179   \n",
       "4           N  Chris Gallagher  cgallagher@schoolwires.com  814-555-5179   \n",
       "\n",
       "   Location  Category Registration  Maximum Seats Last Date To Register  \\\n",
       "0  Room 203         2            Y              1               10/4/13   \n",
       "1  Room 203         2            Y              1               10/4/13   \n",
       "2  Room 203         2            Y              1               10/4/13   \n",
       "3  Room 203         2            Y              1               10/4/13   \n",
       "4  Room 203         2            Y              1               10/4/13   \n",
       "\n",
       "         new_col  \n",
       "0  new_col_value  \n",
       "1  new_col_value  \n",
       "2  new_col_value  \n",
       "3  new_col_value  \n",
       "4  new_col_value  "
      ]
     },
     "execution_count": 55,
     "metadata": {},
     "output_type": "execute_result"
    }
   ],
   "source": [
    "df[\"new_col\"] = \"new_col_value\"\n",
    "df.head(5)"
   ]
  },
  {
   "cell_type": "markdown",
   "metadata": {},
   "source": [
    "**Applying an operation on each row**"
   ]
  },
  {
   "cell_type": "code",
   "execution_count": 56,
   "metadata": {},
   "outputs": [
    {
     "data": {
      "text/html": [
       "<div>\n",
       "<style scoped>\n",
       "    .dataframe tbody tr th:only-of-type {\n",
       "        vertical-align: middle;\n",
       "    }\n",
       "\n",
       "    .dataframe tbody tr th {\n",
       "        vertical-align: top;\n",
       "    }\n",
       "\n",
       "    .dataframe thead th {\n",
       "        text-align: right;\n",
       "    }\n",
       "</style>\n",
       "<table border=\"1\" class=\"dataframe\">\n",
       "  <thead>\n",
       "    <tr style=\"text-align: right;\">\n",
       "      <th></th>\n",
       "      <th>Start Date</th>\n",
       "      <th>Start Time</th>\n",
       "      <th>End Date</th>\n",
       "      <th>End Time</th>\n",
       "      <th>Event Title</th>\n",
       "      <th>Event Description</th>\n",
       "      <th>All Day Event</th>\n",
       "      <th>No End Time</th>\n",
       "      <th>Contact</th>\n",
       "      <th>Contact Email</th>\n",
       "      <th>Contact Phone</th>\n",
       "      <th>Location</th>\n",
       "      <th>Category</th>\n",
       "      <th>Registration</th>\n",
       "      <th>Maximum Seats</th>\n",
       "      <th>Last Date To Register</th>\n",
       "      <th>new_col</th>\n",
       "      <th>cat_plus_seats</th>\n",
       "    </tr>\n",
       "  </thead>\n",
       "  <tbody>\n",
       "    <tr>\n",
       "      <th>0</th>\n",
       "      <td>10/5/13</td>\n",
       "      <td>7:00 AM</td>\n",
       "      <td>10/5/13</td>\n",
       "      <td>7:30 AM</td>\n",
       "      <td>Parent Teacher Conference</td>\n",
       "      <td>Register for a half hour parent teacher confer...</td>\n",
       "      <td>N</td>\n",
       "      <td>N</td>\n",
       "      <td>Chris Gallagher</td>\n",
       "      <td>cgallagher@schoolwires.com</td>\n",
       "      <td>814-555-5179</td>\n",
       "      <td>Room 203</td>\n",
       "      <td>2</td>\n",
       "      <td>Y</td>\n",
       "      <td>1</td>\n",
       "      <td>10/4/13</td>\n",
       "      <td>new_col_value</td>\n",
       "      <td>3</td>\n",
       "    </tr>\n",
       "    <tr>\n",
       "      <th>1</th>\n",
       "      <td>10/5/13</td>\n",
       "      <td>7:30 AM</td>\n",
       "      <td>10/5/13</td>\n",
       "      <td>8:00 AM</td>\n",
       "      <td>Parent Teacher Conference</td>\n",
       "      <td>Register for a half hour parent teacher confer...</td>\n",
       "      <td>N</td>\n",
       "      <td>N</td>\n",
       "      <td>Chris Gallagher</td>\n",
       "      <td>cgallagher@schoolwires.com</td>\n",
       "      <td>814-555-5179</td>\n",
       "      <td>Room 203</td>\n",
       "      <td>2</td>\n",
       "      <td>Y</td>\n",
       "      <td>1</td>\n",
       "      <td>10/4/13</td>\n",
       "      <td>new_col_value</td>\n",
       "      <td>3</td>\n",
       "    </tr>\n",
       "    <tr>\n",
       "      <th>2</th>\n",
       "      <td>10/5/13</td>\n",
       "      <td>8:00 AM</td>\n",
       "      <td>10/5/13</td>\n",
       "      <td>8:30 AM</td>\n",
       "      <td>Parent Teacher Conference</td>\n",
       "      <td>Register for a half hour parent teacher confer...</td>\n",
       "      <td>N</td>\n",
       "      <td>N</td>\n",
       "      <td>Chris Gallagher</td>\n",
       "      <td>cgallagher@schoolwires.com</td>\n",
       "      <td>814-555-5179</td>\n",
       "      <td>Room 203</td>\n",
       "      <td>2</td>\n",
       "      <td>Y</td>\n",
       "      <td>1</td>\n",
       "      <td>10/4/13</td>\n",
       "      <td>new_col_value</td>\n",
       "      <td>3</td>\n",
       "    </tr>\n",
       "    <tr>\n",
       "      <th>3</th>\n",
       "      <td>10/5/13</td>\n",
       "      <td>8:30 AM</td>\n",
       "      <td>10/5/13</td>\n",
       "      <td>9:00 AM</td>\n",
       "      <td>Parent Teacher Conference</td>\n",
       "      <td>Register for a half hour parent teacher confer...</td>\n",
       "      <td>N</td>\n",
       "      <td>N</td>\n",
       "      <td>Chris Gallagher</td>\n",
       "      <td>cgallagher@schoolwires.com</td>\n",
       "      <td>814-555-5179</td>\n",
       "      <td>Room 203</td>\n",
       "      <td>2</td>\n",
       "      <td>Y</td>\n",
       "      <td>1</td>\n",
       "      <td>10/4/13</td>\n",
       "      <td>new_col_value</td>\n",
       "      <td>3</td>\n",
       "    </tr>\n",
       "    <tr>\n",
       "      <th>4</th>\n",
       "      <td>10/5/13</td>\n",
       "      <td>9:00 AM</td>\n",
       "      <td>10/5/13</td>\n",
       "      <td>9:30 AM</td>\n",
       "      <td>Parent Teacher Conference</td>\n",
       "      <td>Register for a half hour parent teacher confer...</td>\n",
       "      <td>N</td>\n",
       "      <td>N</td>\n",
       "      <td>Chris Gallagher</td>\n",
       "      <td>cgallagher@schoolwires.com</td>\n",
       "      <td>814-555-5179</td>\n",
       "      <td>Room 203</td>\n",
       "      <td>2</td>\n",
       "      <td>Y</td>\n",
       "      <td>1</td>\n",
       "      <td>10/4/13</td>\n",
       "      <td>new_col_value</td>\n",
       "      <td>3</td>\n",
       "    </tr>\n",
       "  </tbody>\n",
       "</table>\n",
       "</div>"
      ],
      "text/plain": [
       "  Start Date  Start Time End Date End Time               Event Title   \\\n",
       "0     10/5/13    7:00 AM  10/5/13  7:30 AM  Parent Teacher Conference   \n",
       "1     10/5/13    7:30 AM  10/5/13  8:00 AM  Parent Teacher Conference   \n",
       "2     10/5/13    8:00 AM  10/5/13  8:30 AM  Parent Teacher Conference   \n",
       "3     10/5/13    8:30 AM  10/5/13  9:00 AM  Parent Teacher Conference   \n",
       "4     10/5/13    9:00 AM  10/5/13  9:30 AM  Parent Teacher Conference   \n",
       "\n",
       "                                   Event Description All Day Event  \\\n",
       "0  Register for a half hour parent teacher confer...             N   \n",
       "1  Register for a half hour parent teacher confer...             N   \n",
       "2  Register for a half hour parent teacher confer...             N   \n",
       "3  Register for a half hour parent teacher confer...             N   \n",
       "4  Register for a half hour parent teacher confer...             N   \n",
       "\n",
       "  No End Time         Contact                Contact Email Contact Phone  \\\n",
       "0           N  Chris Gallagher  cgallagher@schoolwires.com  814-555-5179   \n",
       "1           N  Chris Gallagher  cgallagher@schoolwires.com  814-555-5179   \n",
       "2           N  Chris Gallagher  cgallagher@schoolwires.com  814-555-5179   \n",
       "3           N  Chris Gallagher  cgallagher@schoolwires.com  814-555-5179   \n",
       "4           N  Chris Gallagher  cgallagher@schoolwires.com  814-555-5179   \n",
       "\n",
       "   Location  Category Registration  Maximum Seats Last Date To Register  \\\n",
       "0  Room 203         2            Y              1               10/4/13   \n",
       "1  Room 203         2            Y              1               10/4/13   \n",
       "2  Room 203         2            Y              1               10/4/13   \n",
       "3  Room 203         2            Y              1               10/4/13   \n",
       "4  Room 203         2            Y              1               10/4/13   \n",
       "\n",
       "         new_col  cat_plus_seats  \n",
       "0  new_col_value               3  \n",
       "1  new_col_value               3  \n",
       "2  new_col_value               3  \n",
       "3  new_col_value               3  \n",
       "4  new_col_value               3  "
      ]
     },
     "execution_count": 56,
     "metadata": {},
     "output_type": "execute_result"
    }
   ],
   "source": [
    "# axis=1 will apply on each row instead of column\n",
    "df[\"cat_plus_seats\"] = df.apply(lambda row: row[\"Category\"]+row[\"Maximum Seats\"], axis=1)\n",
    "df.head(5)"
   ]
  },
  {
   "cell_type": "markdown",
   "metadata": {},
   "source": [
    "# Matplotlib\n",
    "\n",
    "+ plotting library\n",
    "+ numerical mathematics extension NumPy\n",
    "+ provides an object-oriented API for embedding plots into applications\n",
    "\n",
    "Installing Matplotlib\n",
    "    \n",
    "    $ pip install matplotlib"
   ]
  },
  {
   "cell_type": "code",
   "execution_count": 57,
   "metadata": {},
   "outputs": [],
   "source": [
    "%matplotlib inline\n",
    "from matplotlib import pyplot as plt"
   ]
  },
  {
   "cell_type": "markdown",
   "metadata": {},
   "source": [
    "### Line Charts"
   ]
  },
  {
   "cell_type": "code",
   "execution_count": 58,
   "metadata": {},
   "outputs": [
    {
     "data": {
      "text/plain": [
       "array([ 0.        ,  0.01001001,  0.02002002,  0.03003003,  0.04004004,\n",
       "        0.05005005,  0.06006006,  0.07007007,  0.08008008,  0.09009009,\n",
       "        0.1001001 ,  0.11011011,  0.12012012,  0.13013013,  0.14014014,\n",
       "        0.15015015,  0.16016016,  0.17017017,  0.18018018,  0.19019019,\n",
       "        0.2002002 ,  0.21021021,  0.22022022,  0.23023023,  0.24024024,\n",
       "        0.25025025,  0.26026026,  0.27027027,  0.28028028,  0.29029029,\n",
       "        0.3003003 ,  0.31031031,  0.32032032,  0.33033033,  0.34034034,\n",
       "        0.35035035,  0.36036036,  0.37037037,  0.38038038,  0.39039039,\n",
       "        0.4004004 ,  0.41041041,  0.42042042,  0.43043043,  0.44044044,\n",
       "        0.45045045,  0.46046046,  0.47047047,  0.48048048,  0.49049049,\n",
       "        0.5005005 ,  0.51051051,  0.52052052,  0.53053053,  0.54054054,\n",
       "        0.55055055,  0.56056056,  0.57057057,  0.58058058,  0.59059059,\n",
       "        0.6006006 ,  0.61061061,  0.62062062,  0.63063063,  0.64064064,\n",
       "        0.65065065,  0.66066066,  0.67067067,  0.68068068,  0.69069069,\n",
       "        0.7007007 ,  0.71071071,  0.72072072,  0.73073073,  0.74074074,\n",
       "        0.75075075,  0.76076076,  0.77077077,  0.78078078,  0.79079079,\n",
       "        0.8008008 ,  0.81081081,  0.82082082,  0.83083083,  0.84084084,\n",
       "        0.85085085,  0.86086086,  0.87087087,  0.88088088,  0.89089089,\n",
       "        0.9009009 ,  0.91091091,  0.92092092,  0.93093093,  0.94094094,\n",
       "        0.95095095,  0.96096096,  0.97097097,  0.98098098,  0.99099099,\n",
       "        1.001001  ,  1.01101101,  1.02102102,  1.03103103,  1.04104104,\n",
       "        1.05105105,  1.06106106,  1.07107107,  1.08108108,  1.09109109,\n",
       "        1.1011011 ,  1.11111111,  1.12112112,  1.13113113,  1.14114114,\n",
       "        1.15115115,  1.16116116,  1.17117117,  1.18118118,  1.19119119,\n",
       "        1.2012012 ,  1.21121121,  1.22122122,  1.23123123,  1.24124124,\n",
       "        1.25125125,  1.26126126,  1.27127127,  1.28128128,  1.29129129,\n",
       "        1.3013013 ,  1.31131131,  1.32132132,  1.33133133,  1.34134134,\n",
       "        1.35135135,  1.36136136,  1.37137137,  1.38138138,  1.39139139,\n",
       "        1.4014014 ,  1.41141141,  1.42142142,  1.43143143,  1.44144144,\n",
       "        1.45145145,  1.46146146,  1.47147147,  1.48148148,  1.49149149,\n",
       "        1.5015015 ,  1.51151151,  1.52152152,  1.53153153,  1.54154154,\n",
       "        1.55155155,  1.56156156,  1.57157157,  1.58158158,  1.59159159,\n",
       "        1.6016016 ,  1.61161161,  1.62162162,  1.63163163,  1.64164164,\n",
       "        1.65165165,  1.66166166,  1.67167167,  1.68168168,  1.69169169,\n",
       "        1.7017017 ,  1.71171171,  1.72172172,  1.73173173,  1.74174174,\n",
       "        1.75175175,  1.76176176,  1.77177177,  1.78178178,  1.79179179,\n",
       "        1.8018018 ,  1.81181181,  1.82182182,  1.83183183,  1.84184184,\n",
       "        1.85185185,  1.86186186,  1.87187187,  1.88188188,  1.89189189,\n",
       "        1.9019019 ,  1.91191191,  1.92192192,  1.93193193,  1.94194194,\n",
       "        1.95195195,  1.96196196,  1.97197197,  1.98198198,  1.99199199,\n",
       "        2.002002  ,  2.01201201,  2.02202202,  2.03203203,  2.04204204,\n",
       "        2.05205205,  2.06206206,  2.07207207,  2.08208208,  2.09209209,\n",
       "        2.1021021 ,  2.11211211,  2.12212212,  2.13213213,  2.14214214,\n",
       "        2.15215215,  2.16216216,  2.17217217,  2.18218218,  2.19219219,\n",
       "        2.2022022 ,  2.21221221,  2.22222222,  2.23223223,  2.24224224,\n",
       "        2.25225225,  2.26226226,  2.27227227,  2.28228228,  2.29229229,\n",
       "        2.3023023 ,  2.31231231,  2.32232232,  2.33233233,  2.34234234,\n",
       "        2.35235235,  2.36236236,  2.37237237,  2.38238238,  2.39239239,\n",
       "        2.4024024 ,  2.41241241,  2.42242242,  2.43243243,  2.44244244,\n",
       "        2.45245245,  2.46246246,  2.47247247,  2.48248248,  2.49249249,\n",
       "        2.5025025 ,  2.51251251,  2.52252252,  2.53253253,  2.54254254,\n",
       "        2.55255255,  2.56256256,  2.57257257,  2.58258258,  2.59259259,\n",
       "        2.6026026 ,  2.61261261,  2.62262262,  2.63263263,  2.64264264,\n",
       "        2.65265265,  2.66266266,  2.67267267,  2.68268268,  2.69269269,\n",
       "        2.7027027 ,  2.71271271,  2.72272272,  2.73273273,  2.74274274,\n",
       "        2.75275275,  2.76276276,  2.77277277,  2.78278278,  2.79279279,\n",
       "        2.8028028 ,  2.81281281,  2.82282282,  2.83283283,  2.84284284,\n",
       "        2.85285285,  2.86286286,  2.87287287,  2.88288288,  2.89289289,\n",
       "        2.9029029 ,  2.91291291,  2.92292292,  2.93293293,  2.94294294,\n",
       "        2.95295295,  2.96296296,  2.97297297,  2.98298298,  2.99299299,\n",
       "        3.003003  ,  3.01301301,  3.02302302,  3.03303303,  3.04304304,\n",
       "        3.05305305,  3.06306306,  3.07307307,  3.08308308,  3.09309309,\n",
       "        3.1031031 ,  3.11311311,  3.12312312,  3.13313313,  3.14314314,\n",
       "        3.15315315,  3.16316316,  3.17317317,  3.18318318,  3.19319319,\n",
       "        3.2032032 ,  3.21321321,  3.22322322,  3.23323323,  3.24324324,\n",
       "        3.25325325,  3.26326326,  3.27327327,  3.28328328,  3.29329329,\n",
       "        3.3033033 ,  3.31331331,  3.32332332,  3.33333333,  3.34334334,\n",
       "        3.35335335,  3.36336336,  3.37337337,  3.38338338,  3.39339339,\n",
       "        3.4034034 ,  3.41341341,  3.42342342,  3.43343343,  3.44344344,\n",
       "        3.45345345,  3.46346346,  3.47347347,  3.48348348,  3.49349349,\n",
       "        3.5035035 ,  3.51351351,  3.52352352,  3.53353353,  3.54354354,\n",
       "        3.55355355,  3.56356356,  3.57357357,  3.58358358,  3.59359359,\n",
       "        3.6036036 ,  3.61361361,  3.62362362,  3.63363363,  3.64364364,\n",
       "        3.65365365,  3.66366366,  3.67367367,  3.68368368,  3.69369369,\n",
       "        3.7037037 ,  3.71371371,  3.72372372,  3.73373373,  3.74374374,\n",
       "        3.75375375,  3.76376376,  3.77377377,  3.78378378,  3.79379379,\n",
       "        3.8038038 ,  3.81381381,  3.82382382,  3.83383383,  3.84384384,\n",
       "        3.85385385,  3.86386386,  3.87387387,  3.88388388,  3.89389389,\n",
       "        3.9039039 ,  3.91391391,  3.92392392,  3.93393393,  3.94394394,\n",
       "        3.95395395,  3.96396396,  3.97397397,  3.98398398,  3.99399399,\n",
       "        4.004004  ,  4.01401401,  4.02402402,  4.03403403,  4.04404404,\n",
       "        4.05405405,  4.06406406,  4.07407407,  4.08408408,  4.09409409,\n",
       "        4.1041041 ,  4.11411411,  4.12412412,  4.13413413,  4.14414414,\n",
       "        4.15415415,  4.16416416,  4.17417417,  4.18418418,  4.19419419,\n",
       "        4.2042042 ,  4.21421421,  4.22422422,  4.23423423,  4.24424424,\n",
       "        4.25425425,  4.26426426,  4.27427427,  4.28428428,  4.29429429,\n",
       "        4.3043043 ,  4.31431431,  4.32432432,  4.33433433,  4.34434434,\n",
       "        4.35435435,  4.36436436,  4.37437437,  4.38438438,  4.39439439,\n",
       "        4.4044044 ,  4.41441441,  4.42442442,  4.43443443,  4.44444444,\n",
       "        4.45445445,  4.46446446,  4.47447447,  4.48448448,  4.49449449,\n",
       "        4.5045045 ,  4.51451451,  4.52452452,  4.53453453,  4.54454454,\n",
       "        4.55455455,  4.56456456,  4.57457457,  4.58458458,  4.59459459,\n",
       "        4.6046046 ,  4.61461461,  4.62462462,  4.63463463,  4.64464464,\n",
       "        4.65465465,  4.66466466,  4.67467467,  4.68468468,  4.69469469,\n",
       "        4.7047047 ,  4.71471471,  4.72472472,  4.73473473,  4.74474474,\n",
       "        4.75475475,  4.76476476,  4.77477477,  4.78478478,  4.79479479,\n",
       "        4.8048048 ,  4.81481481,  4.82482482,  4.83483483,  4.84484484,\n",
       "        4.85485485,  4.86486486,  4.87487487,  4.88488488,  4.89489489,\n",
       "        4.9049049 ,  4.91491491,  4.92492492,  4.93493493,  4.94494494,\n",
       "        4.95495495,  4.96496496,  4.97497497,  4.98498498,  4.99499499,\n",
       "        5.00500501,  5.01501502,  5.02502503,  5.03503504,  5.04504505,\n",
       "        5.05505506,  5.06506507,  5.07507508,  5.08508509,  5.0950951 ,\n",
       "        5.10510511,  5.11511512,  5.12512513,  5.13513514,  5.14514515,\n",
       "        5.15515516,  5.16516517,  5.17517518,  5.18518519,  5.1951952 ,\n",
       "        5.20520521,  5.21521522,  5.22522523,  5.23523524,  5.24524525,\n",
       "        5.25525526,  5.26526527,  5.27527528,  5.28528529,  5.2952953 ,\n",
       "        5.30530531,  5.31531532,  5.32532533,  5.33533534,  5.34534535,\n",
       "        5.35535536,  5.36536537,  5.37537538,  5.38538539,  5.3953954 ,\n",
       "        5.40540541,  5.41541542,  5.42542543,  5.43543544,  5.44544545,\n",
       "        5.45545546,  5.46546547,  5.47547548,  5.48548549,  5.4954955 ,\n",
       "        5.50550551,  5.51551552,  5.52552553,  5.53553554,  5.54554555,\n",
       "        5.55555556,  5.56556557,  5.57557558,  5.58558559,  5.5955956 ,\n",
       "        5.60560561,  5.61561562,  5.62562563,  5.63563564,  5.64564565,\n",
       "        5.65565566,  5.66566567,  5.67567568,  5.68568569,  5.6956957 ,\n",
       "        5.70570571,  5.71571572,  5.72572573,  5.73573574,  5.74574575,\n",
       "        5.75575576,  5.76576577,  5.77577578,  5.78578579,  5.7957958 ,\n",
       "        5.80580581,  5.81581582,  5.82582583,  5.83583584,  5.84584585,\n",
       "        5.85585586,  5.86586587,  5.87587588,  5.88588589,  5.8958959 ,\n",
       "        5.90590591,  5.91591592,  5.92592593,  5.93593594,  5.94594595,\n",
       "        5.95595596,  5.96596597,  5.97597598,  5.98598599,  5.995996  ,\n",
       "        6.00600601,  6.01601602,  6.02602603,  6.03603604,  6.04604605,\n",
       "        6.05605606,  6.06606607,  6.07607608,  6.08608609,  6.0960961 ,\n",
       "        6.10610611,  6.11611612,  6.12612613,  6.13613614,  6.14614615,\n",
       "        6.15615616,  6.16616617,  6.17617618,  6.18618619,  6.1961962 ,\n",
       "        6.20620621,  6.21621622,  6.22622623,  6.23623624,  6.24624625,\n",
       "        6.25625626,  6.26626627,  6.27627628,  6.28628629,  6.2962963 ,\n",
       "        6.30630631,  6.31631632,  6.32632633,  6.33633634,  6.34634635,\n",
       "        6.35635636,  6.36636637,  6.37637638,  6.38638639,  6.3963964 ,\n",
       "        6.40640641,  6.41641642,  6.42642643,  6.43643644,  6.44644645,\n",
       "        6.45645646,  6.46646647,  6.47647648,  6.48648649,  6.4964965 ,\n",
       "        6.50650651,  6.51651652,  6.52652653,  6.53653654,  6.54654655,\n",
       "        6.55655656,  6.56656657,  6.57657658,  6.58658659,  6.5965966 ,\n",
       "        6.60660661,  6.61661662,  6.62662663,  6.63663664,  6.64664665,\n",
       "        6.65665666,  6.66666667,  6.67667668,  6.68668669,  6.6966967 ,\n",
       "        6.70670671,  6.71671672,  6.72672673,  6.73673674,  6.74674675,\n",
       "        6.75675676,  6.76676677,  6.77677678,  6.78678679,  6.7967968 ,\n",
       "        6.80680681,  6.81681682,  6.82682683,  6.83683684,  6.84684685,\n",
       "        6.85685686,  6.86686687,  6.87687688,  6.88688689,  6.8968969 ,\n",
       "        6.90690691,  6.91691692,  6.92692693,  6.93693694,  6.94694695,\n",
       "        6.95695696,  6.96696697,  6.97697698,  6.98698699,  6.996997  ,\n",
       "        7.00700701,  7.01701702,  7.02702703,  7.03703704,  7.04704705,\n",
       "        7.05705706,  7.06706707,  7.07707708,  7.08708709,  7.0970971 ,\n",
       "        7.10710711,  7.11711712,  7.12712713,  7.13713714,  7.14714715,\n",
       "        7.15715716,  7.16716717,  7.17717718,  7.18718719,  7.1971972 ,\n",
       "        7.20720721,  7.21721722,  7.22722723,  7.23723724,  7.24724725,\n",
       "        7.25725726,  7.26726727,  7.27727728,  7.28728729,  7.2972973 ,\n",
       "        7.30730731,  7.31731732,  7.32732733,  7.33733734,  7.34734735,\n",
       "        7.35735736,  7.36736737,  7.37737738,  7.38738739,  7.3973974 ,\n",
       "        7.40740741,  7.41741742,  7.42742743,  7.43743744,  7.44744745,\n",
       "        7.45745746,  7.46746747,  7.47747748,  7.48748749,  7.4974975 ,\n",
       "        7.50750751,  7.51751752,  7.52752753,  7.53753754,  7.54754755,\n",
       "        7.55755756,  7.56756757,  7.57757758,  7.58758759,  7.5975976 ,\n",
       "        7.60760761,  7.61761762,  7.62762763,  7.63763764,  7.64764765,\n",
       "        7.65765766,  7.66766767,  7.67767768,  7.68768769,  7.6976977 ,\n",
       "        7.70770771,  7.71771772,  7.72772773,  7.73773774,  7.74774775,\n",
       "        7.75775776,  7.76776777,  7.77777778,  7.78778779,  7.7977978 ,\n",
       "        7.80780781,  7.81781782,  7.82782783,  7.83783784,  7.84784785,\n",
       "        7.85785786,  7.86786787,  7.87787788,  7.88788789,  7.8978979 ,\n",
       "        7.90790791,  7.91791792,  7.92792793,  7.93793794,  7.94794795,\n",
       "        7.95795796,  7.96796797,  7.97797798,  7.98798799,  7.997998  ,\n",
       "        8.00800801,  8.01801802,  8.02802803,  8.03803804,  8.04804805,\n",
       "        8.05805806,  8.06806807,  8.07807808,  8.08808809,  8.0980981 ,\n",
       "        8.10810811,  8.11811812,  8.12812813,  8.13813814,  8.14814815,\n",
       "        8.15815816,  8.16816817,  8.17817818,  8.18818819,  8.1981982 ,\n",
       "        8.20820821,  8.21821822,  8.22822823,  8.23823824,  8.24824825,\n",
       "        8.25825826,  8.26826827,  8.27827828,  8.28828829,  8.2982983 ,\n",
       "        8.30830831,  8.31831832,  8.32832833,  8.33833834,  8.34834835,\n",
       "        8.35835836,  8.36836837,  8.37837838,  8.38838839,  8.3983984 ,\n",
       "        8.40840841,  8.41841842,  8.42842843,  8.43843844,  8.44844845,\n",
       "        8.45845846,  8.46846847,  8.47847848,  8.48848849,  8.4984985 ,\n",
       "        8.50850851,  8.51851852,  8.52852853,  8.53853854,  8.54854855,\n",
       "        8.55855856,  8.56856857,  8.57857858,  8.58858859,  8.5985986 ,\n",
       "        8.60860861,  8.61861862,  8.62862863,  8.63863864,  8.64864865,\n",
       "        8.65865866,  8.66866867,  8.67867868,  8.68868869,  8.6986987 ,\n",
       "        8.70870871,  8.71871872,  8.72872873,  8.73873874,  8.74874875,\n",
       "        8.75875876,  8.76876877,  8.77877878,  8.78878879,  8.7987988 ,\n",
       "        8.80880881,  8.81881882,  8.82882883,  8.83883884,  8.84884885,\n",
       "        8.85885886,  8.86886887,  8.87887888,  8.88888889,  8.8988989 ,\n",
       "        8.90890891,  8.91891892,  8.92892893,  8.93893894,  8.94894895,\n",
       "        8.95895896,  8.96896897,  8.97897898,  8.98898899,  8.998999  ,\n",
       "        9.00900901,  9.01901902,  9.02902903,  9.03903904,  9.04904905,\n",
       "        9.05905906,  9.06906907,  9.07907908,  9.08908909,  9.0990991 ,\n",
       "        9.10910911,  9.11911912,  9.12912913,  9.13913914,  9.14914915,\n",
       "        9.15915916,  9.16916917,  9.17917918,  9.18918919,  9.1991992 ,\n",
       "        9.20920921,  9.21921922,  9.22922923,  9.23923924,  9.24924925,\n",
       "        9.25925926,  9.26926927,  9.27927928,  9.28928929,  9.2992993 ,\n",
       "        9.30930931,  9.31931932,  9.32932933,  9.33933934,  9.34934935,\n",
       "        9.35935936,  9.36936937,  9.37937938,  9.38938939,  9.3993994 ,\n",
       "        9.40940941,  9.41941942,  9.42942943,  9.43943944,  9.44944945,\n",
       "        9.45945946,  9.46946947,  9.47947948,  9.48948949,  9.4994995 ,\n",
       "        9.50950951,  9.51951952,  9.52952953,  9.53953954,  9.54954955,\n",
       "        9.55955956,  9.56956957,  9.57957958,  9.58958959,  9.5995996 ,\n",
       "        9.60960961,  9.61961962,  9.62962963,  9.63963964,  9.64964965,\n",
       "        9.65965966,  9.66966967,  9.67967968,  9.68968969,  9.6996997 ,\n",
       "        9.70970971,  9.71971972,  9.72972973,  9.73973974,  9.74974975,\n",
       "        9.75975976,  9.76976977,  9.77977978,  9.78978979,  9.7997998 ,\n",
       "        9.80980981,  9.81981982,  9.82982983,  9.83983984,  9.84984985,\n",
       "        9.85985986,  9.86986987,  9.87987988,  9.88988989,  9.8998999 ,\n",
       "        9.90990991,  9.91991992,  9.92992993,  9.93993994,  9.94994995,\n",
       "        9.95995996,  9.96996997,  9.97997998,  9.98998999, 10.        ])"
      ]
     },
     "execution_count": 58,
     "metadata": {},
     "output_type": "execute_result"
    }
   ],
   "source": [
    "# making x axis\n",
    "x = np.linspace(0, 10, 1000)\n",
    "x"
   ]
  },
  {
   "cell_type": "code",
   "execution_count": 59,
   "metadata": {},
   "outputs": [
    {
     "data": {
      "text/plain": [
       "array([ 1.00000000e+00,  9.99949900e-01,  9.99799606e-01,  9.99549133e-01,\n",
       "        9.99198505e-01,  9.98747758e-01,  9.98196937e-01,  9.97546097e-01,\n",
       "        9.96795304e-01,  9.95944632e-01,  9.94994167e-01,  9.93944004e-01,\n",
       "        9.92794249e-01,  9.91545016e-01,  9.90196431e-01,  9.88748629e-01,\n",
       "        9.87201754e-01,  9.85555963e-01,  9.83811419e-01,  9.81968298e-01,\n",
       "        9.80026785e-01,  9.77987073e-01,  9.75849367e-01,  9.73613882e-01,\n",
       "        9.71280841e-01,  9.68850478e-01,  9.66323038e-01,  9.63698772e-01,\n",
       "        9.60977944e-01,  9.58160826e-01,  9.55247701e-01,  9.52238861e-01,\n",
       "        9.49134607e-01,  9.45935251e-01,  9.42641112e-01,  9.39252521e-01,\n",
       "        9.35769817e-01,  9.32193350e-01,  9.28523478e-01,  9.24760567e-01,\n",
       "        9.20904997e-01,  9.16957152e-01,  9.12917429e-01,  9.08786232e-01,\n",
       "        9.04563975e-01,  9.00251081e-01,  8.95847982e-01,  8.91355120e-01,\n",
       "        8.86772945e-01,  8.82101915e-01,  8.77342499e-01,  8.72495174e-01,\n",
       "        8.67560426e-01,  8.62538748e-01,  8.57430645e-01,  8.52236627e-01,\n",
       "        8.46957216e-01,  8.41592940e-01,  8.36144337e-01,  8.30611953e-01,\n",
       "        8.24996341e-01,  8.19298066e-01,  8.13517698e-01,  8.07655815e-01,\n",
       "        8.01713006e-01,  7.95689865e-01,  7.89586997e-01,  7.83405013e-01,\n",
       "        7.77144531e-01,  7.70806181e-01,  7.64390596e-01,  7.57898419e-01,\n",
       "        7.51330302e-01,  7.44686901e-01,  7.37968884e-01,  7.31176922e-01,\n",
       "        7.24311697e-01,  7.17373896e-01,  7.10364214e-01,  7.03283355e-01,\n",
       "        6.96132027e-01,  6.88910947e-01,  6.81620838e-01,  6.74262431e-01,\n",
       "        6.66836464e-01,  6.59343679e-01,  6.51784829e-01,  6.44160671e-01,\n",
       "        6.36471968e-01,  6.28719491e-01,  6.20904016e-01,  6.13026327e-01,\n",
       "        6.05087214e-01,  5.97087471e-01,  5.89027900e-01,  5.80909308e-01,\n",
       "        5.72732510e-01,  5.64498325e-01,  5.56207577e-01,  5.47861097e-01,\n",
       "        5.39459722e-01,  5.31004293e-01,  5.22495658e-01,  5.13934670e-01,\n",
       "        5.05322185e-01,  4.96659067e-01,  4.87946184e-01,  4.79184410e-01,\n",
       "        4.70374621e-01,  4.61517701e-01,  4.52614537e-01,  4.43666022e-01,\n",
       "        4.34673051e-01,  4.25636526e-01,  4.16557353e-01,  4.07436441e-01,\n",
       "        3.98274704e-01,  3.89073060e-01,  3.79832432e-01,  3.70553744e-01,\n",
       "        3.61237927e-01,  3.51885914e-01,  3.42498642e-01,  3.33077052e-01,\n",
       "        3.23622088e-01,  3.14134698e-01,  3.04615831e-01,  2.95066442e-01,\n",
       "        2.85487487e-01,  2.75879926e-01,  2.66244723e-01,  2.56582842e-01,\n",
       "        2.46895251e-01,  2.37182922e-01,  2.27446827e-01,  2.17687942e-01,\n",
       "        2.07907245e-01,  1.98105716e-01,  1.88284337e-01,  1.78444091e-01,\n",
       "        1.68585966e-01,  1.58710948e-01,  1.48820028e-01,  1.38914196e-01,\n",
       "        1.28994445e-01,  1.19061768e-01,  1.09117162e-01,  9.91616222e-02,\n",
       "        8.91961465e-02,  7.92217334e-02,  6.92393823e-02,  5.92500934e-02,\n",
       "        4.92548678e-02,  3.92547068e-02,  2.92506125e-02,  1.92435873e-02,\n",
       "        9.23463398e-03, -7.75244699e-04, -1.07850457e-02, -2.07937660e-02,\n",
       "       -3.08004029e-02, -4.08039535e-02, -5.08034156e-02, -6.07977872e-02,\n",
       "       -7.07860669e-02, -8.07672539e-02, -9.07403481e-02, -1.00704350e-01,\n",
       "       -1.10658262e-01, -1.20601085e-01, -1.30531825e-01, -1.40449485e-01,\n",
       "       -1.50353072e-01, -1.60241594e-01, -1.70114060e-01, -1.79969480e-01,\n",
       "       -1.89806868e-01, -1.99625237e-01, -2.09423604e-01, -2.19200987e-01,\n",
       "       -2.28956405e-01, -2.38688883e-01, -2.48397444e-01, -2.58081116e-01,\n",
       "       -2.67738928e-01, -2.77369913e-01, -2.86973105e-01, -2.96547543e-01,\n",
       "       -3.06092267e-01, -3.15606321e-01, -3.25088751e-01, -3.34538607e-01,\n",
       "       -3.43954943e-01, -3.53336815e-01, -3.62683283e-01, -3.71993410e-01,\n",
       "       -3.81266263e-01, -3.90500914e-01, -3.99696437e-01, -4.08851910e-01,\n",
       "       -4.17966417e-01, -4.27039043e-01, -4.36068881e-01, -4.45055025e-01,\n",
       "       -4.53996574e-01, -4.62892633e-01, -4.71742311e-01, -4.80544720e-01,\n",
       "       -4.89298979e-01, -4.98004210e-01, -5.06659542e-01, -5.15264107e-01,\n",
       "       -5.23817042e-01, -5.32317492e-01, -5.40764603e-01, -5.49157530e-01,\n",
       "       -5.57495432e-01, -5.65777473e-01, -5.74002823e-01, -5.82170659e-01,\n",
       "       -5.90280161e-01, -5.98330518e-01, -6.06320922e-01, -6.14250574e-01,\n",
       "       -6.22118677e-01, -6.29924445e-01, -6.37667095e-01, -6.45345851e-01,\n",
       "       -6.52959943e-01, -6.60508609e-01, -6.67991093e-01, -6.75406644e-01,\n",
       "       -6.82754520e-01, -6.90033984e-01, -6.97244307e-01, -7.04384767e-01,\n",
       "       -7.11454648e-01, -7.18453241e-01, -7.25379846e-01, -7.32233768e-01,\n",
       "       -7.39014320e-01, -7.45720824e-01, -7.52352607e-01, -7.58909005e-01,\n",
       "       -7.65389360e-01, -7.71793024e-01, -7.78119354e-01, -7.84367718e-01,\n",
       "       -7.90537488e-01, -7.96628046e-01, -8.02638783e-01, -8.08569096e-01,\n",
       "       -8.14418391e-01, -8.20186082e-01, -8.25871590e-01, -8.31474347e-01,\n",
       "       -8.36993790e-01, -8.42429367e-01, -8.47780532e-01, -8.53046751e-01,\n",
       "       -8.58227495e-01, -8.63322245e-01, -8.68330490e-01, -8.73251730e-01,\n",
       "       -8.78085470e-01, -8.82831226e-01, -8.87488523e-01, -8.92056894e-01,\n",
       "       -8.96535881e-01, -9.00925037e-01, -9.05223919e-01, -9.09432099e-01,\n",
       "       -9.13549155e-01, -9.17574673e-01, -9.21508251e-01, -9.25349494e-01,\n",
       "       -9.29098017e-01, -9.32753446e-01, -9.36315413e-01, -9.39783561e-01,\n",
       "       -9.43157544e-01, -9.46437023e-01, -9.49621670e-01, -9.52711165e-01,\n",
       "       -9.55705199e-01, -9.58603471e-01, -9.61405692e-01, -9.64111581e-01,\n",
       "       -9.66720867e-01, -9.69233287e-01, -9.71648591e-01, -9.73966536e-01,\n",
       "       -9.76186890e-01, -9.78309431e-01, -9.80333945e-01, -9.82260231e-01,\n",
       "       -9.84088095e-01, -9.85817354e-01, -9.87447834e-01, -9.88979373e-01,\n",
       "       -9.90411816e-01, -9.91745021e-01, -9.92978853e-01, -9.94113189e-01,\n",
       "       -9.95147916e-01, -9.96082929e-01, -9.96918136e-01, -9.97653452e-01,\n",
       "       -9.98288803e-01, -9.98824127e-01, -9.99259369e-01, -9.99594485e-01,\n",
       "       -9.99829443e-01, -9.99964218e-01, -9.99998798e-01, -9.99933178e-01,\n",
       "       -9.99767366e-01, -9.99501377e-01, -9.99135239e-01, -9.98668988e-01,\n",
       "       -9.98102670e-01, -9.97436344e-01, -9.96670075e-01, -9.95803940e-01,\n",
       "       -9.94838026e-01, -9.93772430e-01, -9.92607258e-01, -9.91342628e-01,\n",
       "       -9.89978665e-01, -9.88515508e-01, -9.86953301e-01, -9.85292203e-01,\n",
       "       -9.83532378e-01, -9.81674005e-01, -9.79717268e-01, -9.77662364e-01,\n",
       "       -9.75509498e-01, -9.73258887e-01, -9.70910757e-01, -9.68465341e-01,\n",
       "       -9.65922886e-01, -9.63283645e-01, -9.60547884e-01, -9.57715877e-01,\n",
       "       -9.54787907e-01, -9.51764268e-01, -9.48645263e-01, -9.45431204e-01,\n",
       "       -9.42122413e-01, -9.38719222e-01, -9.35221972e-01, -9.31631013e-01,\n",
       "       -9.27946706e-01, -9.24169418e-01, -9.20299529e-01, -9.16337427e-01,\n",
       "       -9.12283508e-01, -9.08138179e-01, -9.03901855e-01, -8.99574960e-01,\n",
       "       -8.95157929e-01, -8.90651203e-01, -8.86055234e-01, -8.81370484e-01,\n",
       "       -8.76597420e-01, -8.71736521e-01, -8.66788276e-01, -8.61753178e-01,\n",
       "       -8.56631733e-01, -8.51424454e-01, -8.46131863e-01, -8.40754490e-01,\n",
       "       -8.35292874e-01, -8.29747562e-01, -8.24119109e-01, -8.18408081e-01,\n",
       "       -8.12615048e-01, -8.06740592e-01, -8.00785301e-01, -7.94749771e-01,\n",
       "       -7.88634608e-01, -7.82440424e-01, -7.76167840e-01, -7.69817485e-01,\n",
       "       -7.63389994e-01, -7.56886012e-01, -7.50306190e-01, -7.43651188e-01,\n",
       "       -7.36921673e-01, -7.30118318e-01, -7.23241806e-01, -7.16292826e-01,\n",
       "       -7.09272073e-01, -7.02180252e-01, -6.95018073e-01, -6.87786253e-01,\n",
       "       -6.80485517e-01, -6.73116597e-01, -6.65680231e-01, -6.58177165e-01,\n",
       "       -6.50608149e-01, -6.42973943e-01, -6.35275311e-01, -6.27513025e-01,\n",
       "       -6.19687862e-01, -6.11800607e-01, -6.03852050e-01, -5.95842988e-01,\n",
       "       -5.87774222e-01, -5.79646561e-01, -5.71460820e-01, -5.63217820e-01,\n",
       "       -5.54918385e-01, -5.46563347e-01, -5.38153544e-01, -5.29689819e-01,\n",
       "       -5.21173018e-01, -5.12603997e-01, -5.03983613e-01, -4.95312730e-01,\n",
       "       -4.86592217e-01, -4.77822948e-01, -4.69005801e-01, -4.60141660e-01,\n",
       "       -4.51231412e-01, -4.42275952e-01, -4.33276176e-01, -4.24232986e-01,\n",
       "       -4.15147288e-01, -4.06019993e-01, -3.96852014e-01, -3.87644272e-01,\n",
       "       -3.78397687e-01, -3.69113187e-01, -3.59791703e-01, -3.50434167e-01,\n",
       "       -3.41041518e-01, -3.31614697e-01, -3.22154648e-01, -3.12662319e-01,\n",
       "       -3.03138662e-01, -2.93584631e-01, -2.84001182e-01, -2.74389277e-01,\n",
       "       -2.64749878e-01, -2.55083951e-01, -2.45392466e-01, -2.35676391e-01,\n",
       "       -2.25936703e-01, -2.16174375e-01, -2.06390387e-01, -1.96585719e-01,\n",
       "       -1.86761353e-01, -1.76918273e-01, -1.67057466e-01, -1.57179921e-01,\n",
       "       -1.47286626e-01, -1.37378573e-01, -1.27456754e-01, -1.17522165e-01,\n",
       "       -1.07575800e-01, -9.76186559e-02, -8.76517305e-02, -7.76760224e-02,\n",
       "       -6.76925312e-02, -5.77022572e-02, -4.77062016e-02, -3.77053657e-02,\n",
       "       -2.77007519e-02, -1.76933624e-02, -7.68420006e-03,  2.32573223e-03,\n",
       "        1.23354315e-02,  2.23438947e-02,  3.23501191e-02,  4.23531021e-02,\n",
       "        5.23518413e-02,  6.23453348e-02,  7.23325814e-02,  8.23125803e-02,\n",
       "        9.22843315e-02,  1.02246836e-01,  1.12199095e-01,  1.22140112e-01,\n",
       "        1.32068891e-01,  1.41984436e-01,  1.51885755e-01,  1.61771855e-01,\n",
       "        1.71641745e-01,  1.81494437e-01,  1.91328943e-01,  2.01144278e-01,\n",
       "        2.10939459e-01,  2.20713504e-01,  2.30465433e-01,  2.40194270e-01,\n",
       "        2.49899039e-01,  2.59578769e-01,  2.69232489e-01,  2.78859232e-01,\n",
       "        2.88458033e-01,  2.98027932e-01,  3.07567967e-01,  3.17077185e-01,\n",
       "        3.26554632e-01,  3.35999358e-01,  3.45410418e-01,  3.54786867e-01,\n",
       "        3.64127767e-01,  3.73432181e-01,  3.82699178e-01,  3.91927829e-01,\n",
       "        4.01117208e-01,  4.10266396e-01,  4.19374475e-01,  4.28440534e-01,\n",
       "        4.37463662e-01,  4.46442957e-01,  4.55377519e-01,  4.64266452e-01,\n",
       "        4.73108866e-01,  4.81903875e-01,  4.90650597e-01,  4.99348156e-01,\n",
       "        5.07995681e-01,  5.16592305e-01,  5.25137167e-01,  5.33629410e-01,\n",
       "        5.42068184e-01,  5.50452643e-01,  5.58781947e-01,  5.67055261e-01,\n",
       "        5.75271756e-01,  5.83430610e-01,  5.91531004e-01,  5.99572127e-01,\n",
       "        6.07553173e-01,  6.15473343e-01,  6.23331843e-01,  6.31127885e-01,\n",
       "        6.38860689e-01,  6.46529479e-01,  6.54133487e-01,  6.61671951e-01,\n",
       "        6.69144116e-01,  6.76549233e-01,  6.83886561e-01,  6.91155363e-01,\n",
       "        6.98354912e-01,  7.05484486e-01,  7.12543371e-01,  7.19530859e-01,\n",
       "        7.26446251e-01,  7.33288853e-01,  7.40057981e-01,  7.46752954e-01,\n",
       "        7.53373104e-01,  7.59917766e-01,  7.66386284e-01,  7.72778011e-01,\n",
       "        7.79092307e-01,  7.85328537e-01,  7.91486078e-01,  7.97564313e-01,\n",
       "        8.03562632e-01,  8.09480434e-01,  8.15317127e-01,  8.21072126e-01,\n",
       "        8.26744853e-01,  8.32334742e-01,  8.37841230e-01,  8.43263768e-01,\n",
       "        8.48601811e-01,  8.53854824e-01,  8.59022282e-01,  8.64103666e-01,\n",
       "        8.69098468e-01,  8.74006186e-01,  8.78826329e-01,  8.83558414e-01,\n",
       "        8.88201968e-01,  8.92756523e-01,  8.97221626e-01,  9.01596827e-01,\n",
       "        9.05881688e-01,  9.10075781e-01,  9.14178684e-01,  9.18189988e-01,\n",
       "        9.22109289e-01,  9.25936195e-01,  9.29670323e-01,  9.33311299e-01,\n",
       "        9.36858757e-01,  9.40312343e-01,  9.43671709e-01,  9.46936521e-01,\n",
       "        9.50106449e-01,  9.53181178e-01,  9.56160398e-01,  9.59043812e-01,\n",
       "        9.61831130e-01,  9.64522073e-01,  9.67116371e-01,  9.69613765e-01,\n",
       "        9.72014004e-01,  9.74316848e-01,  9.76522066e-01,  9.78629437e-01,\n",
       "        9.80638749e-01,  9.82549803e-01,  9.84362405e-01,  9.86076374e-01,\n",
       "        9.87691540e-01,  9.89207739e-01,  9.90624820e-01,  9.91942641e-01,\n",
       "        9.93161070e-01,  9.94279984e-01,  9.95299273e-01,  9.96218833e-01,\n",
       "        9.97038572e-01,  9.97758408e-01,  9.98378270e-01,  9.98898095e-01,\n",
       "        9.99317830e-01,  9.99637435e-01,  9.99856876e-01,  9.99976133e-01,\n",
       "        9.99995192e-01,  9.99914052e-01,  9.99732722e-01,  9.99451218e-01,\n",
       "        9.99069571e-01,  9.98587817e-01,  9.98006005e-01,  9.97324193e-01,\n",
       "        9.96542450e-01,  9.95660854e-01,  9.94679493e-01,  9.93598466e-01,\n",
       "        9.92417881e-01,  9.91137856e-01,  9.89758520e-01,  9.88280011e-01,\n",
       "        9.86702476e-01,  9.85026074e-01,  9.83250973e-01,  9.81377351e-01,\n",
       "        9.79405396e-01,  9.77335304e-01,  9.75167284e-01,  9.72901553e-01,\n",
       "        9.70538338e-01,  9.68077875e-01,  9.65520411e-01,  9.62866203e-01,\n",
       "        9.60115516e-01,  9.57268626e-01,  9.54325818e-01,  9.51287388e-01,\n",
       "        9.48153638e-01,  9.44924885e-01,  9.41601450e-01,  9.38183667e-01,\n",
       "        9.34671879e-01,  9.31066437e-01,  9.27367703e-01,  9.23576047e-01,\n",
       "        9.19691849e-01,  9.15715499e-01,  9.11647395e-01,  9.07487943e-01,\n",
       "        9.03237562e-01,  8.98896678e-01,  8.94465724e-01,  8.89945145e-01,\n",
       "        8.85335394e-01,  8.80636933e-01,  8.75850233e-01,  8.70975773e-01,\n",
       "        8.66014042e-01,  8.60965536e-01,  8.55830762e-01,  8.50610235e-01,\n",
       "        8.45304477e-01,  8.39914019e-01,  8.34439403e-01,  8.28881176e-01,\n",
       "        8.23239896e-01,  8.17516128e-01,  8.11710445e-01,  8.05823429e-01,\n",
       "        7.99855670e-01,  7.93807766e-01,  7.87680323e-01,  7.81473955e-01,\n",
       "        7.75189283e-01,  7.68826938e-01,  7.62387557e-01,  7.55871785e-01,\n",
       "        7.49280275e-01,  7.42613687e-01,  7.35872690e-01,  7.29057959e-01,\n",
       "        7.22170177e-01,  7.15210034e-01,  7.08178227e-01,  7.01075461e-01,\n",
       "        6.93902448e-01,  6.86659906e-01,  6.79348561e-01,  6.71969145e-01,\n",
       "        6.64522399e-01,  6.57009068e-01,  6.49429905e-01,  6.41785669e-01,\n",
       "        6.34077127e-01,  6.26305051e-01,  6.18470219e-01,  6.10573417e-01,\n",
       "        6.02615435e-01,  5.94597072e-01,  5.86519131e-01,  5.78382421e-01,\n",
       "        5.70187757e-01,  5.61935960e-01,  5.53627858e-01,  5.45264283e-01,\n",
       "        5.36846073e-01,  5.28374071e-01,  5.19849126e-01,  5.11272092e-01,\n",
       "        5.02643829e-01,  4.93965202e-01,  4.85237080e-01,  4.76460337e-01,\n",
       "        4.67635853e-01,  4.58764512e-01,  4.49847203e-01,  4.40884820e-01,\n",
       "        4.31878260e-01,  4.22828426e-01,  4.13736226e-01,  4.04602569e-01,\n",
       "        3.95428371e-01,  3.86214551e-01,  3.76962033e-01,  3.67671743e-01,\n",
       "        3.58344613e-01,  3.48981577e-01,  3.39583574e-01,  3.30151544e-01,\n",
       "        3.20686433e-01,  3.11189189e-01,  3.01660765e-01,  2.92102114e-01,\n",
       "        2.82514195e-01,  2.72897968e-01,  2.63254397e-01,  2.53584448e-01,\n",
       "        2.43889090e-01,  2.34169294e-01,  2.24426035e-01,  2.14660288e-01,\n",
       "        2.04873032e-01,  1.95065249e-01,  1.85237919e-01,  1.75392030e-01,\n",
       "        1.65528565e-01,  1.55648516e-01,  1.45752870e-01,  1.35842619e-01,\n",
       "        1.25918758e-01,  1.15982279e-01,  1.06034179e-01,  9.60754549e-02,\n",
       "        8.61071037e-02,  7.61301246e-02,  6.61455173e-02,  5.61542823e-02,\n",
       "        4.61574206e-02,  3.61559340e-02,  2.61508246e-02,  1.61430949e-02,\n",
       "        6.13374766e-03, -3.87621418e-03, -1.38857876e-02, -2.38939697e-02,\n",
       "       -3.38997577e-02, -4.39021489e-02, -5.39001411e-02, -6.38927325e-02,\n",
       "       -7.38789220e-02, -8.38577088e-02, -9.38280931e-02, -1.03789076e-01,\n",
       "       -1.13739659e-01, -1.23678846e-01, -1.33605640e-01, -1.43519046e-01,\n",
       "       -1.53418073e-01, -1.63301726e-01, -1.73169017e-01, -1.83018957e-01,\n",
       "       -1.92850558e-01, -2.02662836e-01, -2.12454807e-01, -2.22225490e-01,\n",
       "       -2.31973906e-01, -2.41699079e-01, -2.51400034e-01, -2.61075798e-01,\n",
       "       -2.70725403e-01, -2.80347881e-01, -2.89942268e-01, -2.99507604e-01,\n",
       "       -3.09042928e-01, -3.18547287e-01, -3.28019728e-01, -3.37459301e-01,\n",
       "       -3.46865061e-01, -3.56236066e-01, -3.65571375e-01, -3.74870055e-01,\n",
       "       -3.84131173e-01, -3.93353801e-01, -4.02537015e-01, -4.11679896e-01,\n",
       "       -4.20781526e-01, -4.29840994e-01, -4.38857392e-01, -4.47829817e-01,\n",
       "       -4.56757370e-01, -4.65639155e-01, -4.74474285e-01, -4.83261871e-01,\n",
       "       -4.92001036e-01, -5.00690902e-01, -5.09330599e-01, -5.17919262e-01,\n",
       "       -5.26456029e-01, -5.34940046e-01, -5.43370462e-01, -5.51746432e-01,\n",
       "       -5.60067118e-01, -5.68331685e-01, -5.76539306e-01, -5.84689158e-01,\n",
       "       -5.92780425e-01, -6.00812295e-01, -6.08783964e-01, -6.16694633e-01,\n",
       "       -6.24543510e-01, -6.32329808e-01, -6.40052747e-01, -6.47711552e-01,\n",
       "       -6.55305458e-01, -6.62833702e-01, -6.70295531e-01, -6.77690196e-01,\n",
       "       -6.85016957e-01, -6.92275080e-01, -6.99463837e-01, -7.06582509e-01,\n",
       "       -7.13630381e-01, -7.20606748e-01, -7.27510910e-01, -7.34342176e-01,\n",
       "       -7.41099862e-01, -7.47783289e-01, -7.54391789e-01, -7.60924700e-01,\n",
       "       -7.67381366e-01, -7.73761141e-01, -7.80063386e-01, -7.86287469e-01,\n",
       "       -7.92432766e-01, -7.98498661e-01, -8.04484548e-01, -8.10389826e-01,\n",
       "       -8.16213903e-01, -8.21956196e-01, -8.27616129e-01, -8.33193136e-01,\n",
       "       -8.38686657e-01, -8.44096142e-01, -8.49421049e-01, -8.54660845e-01,\n",
       "       -8.59815004e-01, -8.64883010e-01, -8.69864355e-01, -8.74758541e-01,\n",
       "       -8.79565076e-01, -8.84283479e-01, -8.88913277e-01, -8.93454007e-01,\n",
       "       -8.97905213e-01, -9.02266449e-01, -9.06537279e-01, -9.10717274e-01,\n",
       "       -9.14806016e-01, -9.18803095e-01, -9.22708110e-01, -9.26520671e-01,\n",
       "       -9.30240394e-01, -9.33866908e-01, -9.37399849e-01, -9.40838863e-01,\n",
       "       -9.44183606e-01, -9.47433742e-01, -9.50588945e-01, -9.53648900e-01,\n",
       "       -9.56613300e-01, -9.59481847e-01, -9.62254255e-01, -9.64930246e-01,\n",
       "       -9.67509551e-01, -9.69991913e-01, -9.72377081e-01, -9.74664818e-01,\n",
       "       -9.76854895e-01, -9.78947090e-01, -9.80941196e-01, -9.82837012e-01,\n",
       "       -9.84634348e-01, -9.86333025e-01, -9.87932871e-01, -9.89433727e-01,\n",
       "       -9.90835442e-01, -9.92137877e-01, -9.93340899e-01, -9.94444389e-01,\n",
       "       -9.95448237e-01, -9.96352341e-01, -9.97156611e-01, -9.97860966e-01,\n",
       "       -9.98465337e-01, -9.98969661e-01, -9.99373890e-01, -9.99677982e-01,\n",
       "       -9.99881906e-01, -9.99985643e-01, -9.99989182e-01, -9.99892522e-01,\n",
       "       -9.99695674e-01, -9.99398657e-01, -9.99001501e-01, -9.98504245e-01,\n",
       "       -9.97906940e-01, -9.97209644e-01, -9.96412429e-01, -9.95515375e-01,\n",
       "       -9.94518569e-01, -9.93422114e-01, -9.92226118e-01, -9.90930702e-01,\n",
       "       -9.89535995e-01, -9.88042137e-01, -9.86449278e-01, -9.84757577e-01,\n",
       "       -9.82967204e-01, -9.81078338e-01, -9.79091169e-01, -9.77005895e-01,\n",
       "       -9.74822726e-01, -9.72541880e-01, -9.70163586e-01, -9.67688082e-01,\n",
       "       -9.65115616e-01, -9.62446446e-01, -9.59680840e-01, -9.56819074e-01,\n",
       "       -9.53861435e-01, -9.50808220e-01, -9.47659734e-01, -9.44416293e-01,\n",
       "       -9.41078223e-01, -9.37645857e-01, -9.34119539e-01, -9.30499623e-01,\n",
       "       -9.26786471e-01, -9.22980456e-01, -9.19081959e-01, -9.15091370e-01,\n",
       "       -9.11009089e-01, -9.06835526e-01, -9.02571099e-01, -8.98216234e-01,\n",
       "       -8.93771368e-01, -8.89236948e-01, -8.84613426e-01, -8.79901266e-01,\n",
       "       -8.75100941e-01, -8.70212930e-01, -8.65237726e-01, -8.60175824e-01,\n",
       "       -8.55027734e-01, -8.49793970e-01, -8.44475058e-01, -8.39071529e-01])"
      ]
     },
     "execution_count": 59,
     "metadata": {},
     "output_type": "execute_result"
    }
   ],
   "source": [
    "# making y axis\n",
    "y = np.cos(x)\n",
    "y"
   ]
  },
  {
   "cell_type": "code",
   "execution_count": 60,
   "metadata": {},
   "outputs": [
    {
     "data": {
      "image/png": "[encoded data removed]",
      "text/plain": [
       "<Figure size 432x288 with 1 Axes>"
      ]
     },
     "metadata": {
      "needs_background": "light"
     },
     "output_type": "display_data"
    }
   ],
   "source": [
    "# showing the plot\n",
    "plt.plot(x, y)\n",
    "plt.show()"
   ]
  },
  {
   "cell_type": "markdown",
   "metadata": {},
   "source": [
    "**Adding labels and title to the chart**"
   ]
  },
  {
   "cell_type": "code",
   "execution_count": 61,
   "metadata": {},
   "outputs": [
    {
     "data": {
      "image/png": "[encoded data removed]",
      "text/plain": [
       "<Figure size 432x288 with 1 Axes>"
      ]
     },
     "metadata": {
      "needs_background": "light"
     },
     "output_type": "display_data"
    }
   ],
   "source": [
    "plt.plot(x, y)\n",
    "\n",
    "# setting x, y labels\n",
    "plt.xlabel(\"My X Label\")\n",
    "plt.ylabel(\"My Y Label\")\n",
    "\n",
    "# setting title of chart\n",
    "plt.title(\"My Chart\")\n",
    "\n",
    "plt.show()"
   ]
  },
  {
   "cell_type": "markdown",
   "metadata": {},
   "source": [
    "### Scatterplot\n",
    "\n",
    "+ visualising the function that made data"
   ]
  },
  {
   "cell_type": "code",
   "execution_count": 62,
   "metadata": {},
   "outputs": [
    {
     "data": {
      "text/plain": [
       "array([4, 2, 5, 0, 6])"
      ]
     },
     "execution_count": 62,
     "metadata": {},
     "output_type": "execute_result"
    }
   ],
   "source": [
    "x = np.random.randint(0, 10, 5)\n",
    "x"
   ]
  },
  {
   "cell_type": "code",
   "execution_count": 63,
   "metadata": {},
   "outputs": [
    {
     "data": {
      "text/plain": [
       "array([9, 4, 8, 9, 2])"
      ]
     },
     "execution_count": 63,
     "metadata": {},
     "output_type": "execute_result"
    }
   ],
   "source": [
    "y = np.random.randint(0, 10, 5)\n",
    "y"
   ]
  },
  {
   "cell_type": "code",
   "execution_count": 64,
   "metadata": {},
   "outputs": [
    {
     "data": {
      "image/png": "[encoded data removed]",
      "text/plain": [
       "<Figure size 432x288 with 1 Axes>"
      ]
     },
     "metadata": {
      "needs_background": "light"
     },
     "output_type": "display_data"
    }
   ],
   "source": [
    "plt.scatter(x, y)\n",
    "plt.xlabel(\"X axis\")\n",
    "plt.ylabel(\"Y axis\")\n",
    "plt.show()"
   ]
  },
  {
   "cell_type": "markdown",
   "metadata": {},
   "source": [
    "### Histogram\n",
    "\n",
    "+ used for probabality distribution\n",
    "    + frequency counts of each data"
   ]
  },
  {
   "cell_type": "code",
   "execution_count": 65,
   "metadata": {},
   "outputs": [
    {
     "data": {
      "image/png": "[encoded data removed]",
      "text/plain": [
       "<Figure size 432x288 with 1 Axes>"
      ]
     },
     "metadata": {
      "needs_background": "light"
     },
     "output_type": "display_data"
    }
   ],
   "source": [
    "plt.hist(x)\n",
    "plt.show()"
   ]
  },
  {
   "cell_type": "markdown",
   "metadata": {},
   "source": [
    "### Plotting Images\n",
    "\n",
    "+ image are nothing but a matrix\n",
    "+ size equal to resolution\n",
    "+ each pixel contains some value"
   ]
  },
  {
   "cell_type": "code",
   "execution_count": 66,
   "metadata": {},
   "outputs": [
    {
     "data": {
      "text/html": [
       "<div>\n",
       "<style scoped>\n",
       "    .dataframe tbody tr th:only-of-type {\n",
       "        vertical-align: middle;\n",
       "    }\n",
       "\n",
       "    .dataframe tbody tr th {\n",
       "        vertical-align: top;\n",
       "    }\n",
       "\n",
       "    .dataframe thead th {\n",
       "        text-align: right;\n",
       "    }\n",
       "</style>\n",
       "<table border=\"1\" class=\"dataframe\">\n",
       "  <thead>\n",
       "    <tr style=\"text-align: right;\">\n",
       "      <th></th>\n",
       "      <th>label</th>\n",
       "      <th>pixel0</th>\n",
       "      <th>pixel1</th>\n",
       "      <th>pixel2</th>\n",
       "      <th>pixel3</th>\n",
       "      <th>pixel4</th>\n",
       "      <th>pixel5</th>\n",
       "      <th>pixel6</th>\n",
       "      <th>pixel7</th>\n",
       "      <th>pixel8</th>\n",
       "      <th>...</th>\n",
       "      <th>pixel774</th>\n",
       "      <th>pixel775</th>\n",
       "      <th>pixel776</th>\n",
       "      <th>pixel777</th>\n",
       "      <th>pixel778</th>\n",
       "      <th>pixel779</th>\n",
       "      <th>pixel780</th>\n",
       "      <th>pixel781</th>\n",
       "      <th>pixel782</th>\n",
       "      <th>pixel783</th>\n",
       "    </tr>\n",
       "  </thead>\n",
       "  <tbody>\n",
       "    <tr>\n",
       "      <th>0</th>\n",
       "      <td>1</td>\n",
       "      <td>0</td>\n",
       "      <td>0</td>\n",
       "      <td>0</td>\n",
       "      <td>0</td>\n",
       "      <td>0</td>\n",
       "      <td>0</td>\n",
       "      <td>0</td>\n",
       "      <td>0</td>\n",
       "      <td>0</td>\n",
       "      <td>...</td>\n",
       "      <td>0</td>\n",
       "      <td>0</td>\n",
       "      <td>0</td>\n",
       "      <td>0</td>\n",
       "      <td>0</td>\n",
       "      <td>0</td>\n",
       "      <td>0</td>\n",
       "      <td>0</td>\n",
       "      <td>0</td>\n",
       "      <td>0</td>\n",
       "    </tr>\n",
       "    <tr>\n",
       "      <th>1</th>\n",
       "      <td>0</td>\n",
       "      <td>0</td>\n",
       "      <td>0</td>\n",
       "      <td>0</td>\n",
       "      <td>0</td>\n",
       "      <td>0</td>\n",
       "      <td>0</td>\n",
       "      <td>0</td>\n",
       "      <td>0</td>\n",
       "      <td>0</td>\n",
       "      <td>...</td>\n",
       "      <td>0</td>\n",
       "      <td>0</td>\n",
       "      <td>0</td>\n",
       "      <td>0</td>\n",
       "      <td>0</td>\n",
       "      <td>0</td>\n",
       "      <td>0</td>\n",
       "      <td>0</td>\n",
       "      <td>0</td>\n",
       "      <td>0</td>\n",
       "    </tr>\n",
       "    <tr>\n",
       "      <th>2</th>\n",
       "      <td>1</td>\n",
       "      <td>0</td>\n",
       "      <td>0</td>\n",
       "      <td>0</td>\n",
       "      <td>0</td>\n",
       "      <td>0</td>\n",
       "      <td>0</td>\n",
       "      <td>0</td>\n",
       "      <td>0</td>\n",
       "      <td>0</td>\n",
       "      <td>...</td>\n",
       "      <td>0</td>\n",
       "      <td>0</td>\n",
       "      <td>0</td>\n",
       "      <td>0</td>\n",
       "      <td>0</td>\n",
       "      <td>0</td>\n",
       "      <td>0</td>\n",
       "      <td>0</td>\n",
       "      <td>0</td>\n",
       "      <td>0</td>\n",
       "    </tr>\n",
       "    <tr>\n",
       "      <th>3</th>\n",
       "      <td>4</td>\n",
       "      <td>0</td>\n",
       "      <td>0</td>\n",
       "      <td>0</td>\n",
       "      <td>0</td>\n",
       "      <td>0</td>\n",
       "      <td>0</td>\n",
       "      <td>0</td>\n",
       "      <td>0</td>\n",
       "      <td>0</td>\n",
       "      <td>...</td>\n",
       "      <td>0</td>\n",
       "      <td>0</td>\n",
       "      <td>0</td>\n",
       "      <td>0</td>\n",
       "      <td>0</td>\n",
       "      <td>0</td>\n",
       "      <td>0</td>\n",
       "      <td>0</td>\n",
       "      <td>0</td>\n",
       "      <td>0</td>\n",
       "    </tr>\n",
       "    <tr>\n",
       "      <th>4</th>\n",
       "      <td>0</td>\n",
       "      <td>0</td>\n",
       "      <td>0</td>\n",
       "      <td>0</td>\n",
       "      <td>0</td>\n",
       "      <td>0</td>\n",
       "      <td>0</td>\n",
       "      <td>0</td>\n",
       "      <td>0</td>\n",
       "      <td>0</td>\n",
       "      <td>...</td>\n",
       "      <td>0</td>\n",
       "      <td>0</td>\n",
       "      <td>0</td>\n",
       "      <td>0</td>\n",
       "      <td>0</td>\n",
       "      <td>0</td>\n",
       "      <td>0</td>\n",
       "      <td>0</td>\n",
       "      <td>0</td>\n",
       "      <td>0</td>\n",
       "    </tr>\n",
       "  </tbody>\n",
       "</table>\n",
       "<p>5 rows × 785 columns</p>\n",
       "</div>"
      ],
      "text/plain": [
       "   label  pixel0  pixel1  pixel2  pixel3  pixel4  pixel5  pixel6  pixel7  \\\n",
       "0      1       0       0       0       0       0       0       0       0   \n",
       "1      0       0       0       0       0       0       0       0       0   \n",
       "2      1       0       0       0       0       0       0       0       0   \n",
       "3      4       0       0       0       0       0       0       0       0   \n",
       "4      0       0       0       0       0       0       0       0       0   \n",
       "\n",
       "   pixel8  ...  pixel774  pixel775  pixel776  pixel777  pixel778  pixel779  \\\n",
       "0       0  ...         0         0         0         0         0         0   \n",
       "1       0  ...         0         0         0         0         0         0   \n",
       "2       0  ...         0         0         0         0         0         0   \n",
       "3       0  ...         0         0         0         0         0         0   \n",
       "4       0  ...         0         0         0         0         0         0   \n",
       "\n",
       "   pixel780  pixel781  pixel782  pixel783  \n",
       "0         0         0         0         0  \n",
       "1         0         0         0         0  \n",
       "2         0         0         0         0  \n",
       "3         0         0         0         0  \n",
       "4         0         0         0         0  \n",
       "\n",
       "[5 rows x 785 columns]"
      ]
     },
     "execution_count": 66,
     "metadata": {},
     "output_type": "execute_result"
    }
   ],
   "source": [
    "df = pd.read_csv(\"train.csv\")\n",
    "df.head(5)"
   ]
  },
  {
   "cell_type": "code",
   "execution_count": 67,
   "metadata": {},
   "outputs": [
    {
     "data": {
      "image/png": "[encoded data removed]",
      "text/plain": [
       "<Figure size 432x288 with 1 Axes>"
      ]
     },
     "metadata": {
      "needs_background": "light"
     },
     "output_type": "display_data"
    }
   ],
   "source": [
    "# plotting image\n",
    "M = df.values\n",
    "\n",
    "# getting only the pixels\n",
    "image = M[0, 1:]\n",
    "\n",
    "# reshaping to 28 x 28 matrix\n",
    "image = image.reshape(28, 28)\n",
    "\n",
    "# plotting the image\n",
    "plt.imshow(image)\n",
    "plt.show()"
   ]
  },
  {
   "cell_type": "markdown",
   "metadata": {},
   "source": [
    "Well it is something like heat map"
   ]
  },
  {
   "cell_type": "code",
   "execution_count": 68,
   "metadata": {},
   "outputs": [
    {
     "data": {
      "image/png": "[encoded data removed]",
      "text/plain": [
       "<Figure size 432x288 with 1 Axes>"
      ]
     },
     "metadata": {
      "needs_background": "light"
     },
     "output_type": "display_data"
    }
   ],
   "source": [
    "# converting to grayscale\n",
    "plt.imshow(image, cmap=\"gray\")\n",
    "plt.show()"
   ]
  },
  {
   "cell_type": "markdown",
   "metadata": {},
   "source": [
    "# Scipy\n",
    "\n",
    "+ library for scientific computing and technical computing.\n",
    "+ contains modules for \n",
    "    + optimization\n",
    "    + linear algebra\n",
    "    + integration\n",
    "    + interpolation\n",
    "    + special functions\n",
    "    + FFT\n",
    "    + signal\n",
    "    + image processing\n",
    "    + ODE solvers"
   ]
  },
  {
   "cell_type": "markdown",
   "metadata": {},
   "source": [
    "## Gausian PDF and CDF\n",
    "\n",
    "PDF Formula\n",
    "\n",
    "\\begin{equation}\n",
    "f(x | \\mu\\sigma^2) = \\frac{1}{\\sqrt{2\\sigma^2\\pi}} e^{-\\frac{(x - \\mu)^2}{\\sigma^2}}\n",
    "\\end{equation}\n"
   ]
  },
  {
   "cell_type": "code",
   "execution_count": 69,
   "metadata": {},
   "outputs": [],
   "source": [
    "from scipy.stats import norm"
   ]
  },
  {
   "cell_type": "markdown",
   "metadata": {},
   "source": [
    "**Probability density of zero from the normal distribution**"
   ]
  },
  {
   "cell_type": "code",
   "execution_count": 70,
   "metadata": {},
   "outputs": [
    {
     "data": {
      "text/plain": [
       "0.3989422804014327"
      ]
     },
     "execution_count": 70,
     "metadata": {},
     "output_type": "execute_result"
    }
   ],
   "source": [
    "norm.pdf(0)"
   ]
  },
  {
   "cell_type": "markdown",
   "metadata": {},
   "source": [
    "**Probability density with other arguments as well**"
   ]
  },
  {
   "cell_type": "code",
   "execution_count": 71,
   "metadata": {},
   "outputs": [
    {
     "data": {
      "text/plain": [
       "0.03520653267642995"
      ]
     },
     "execution_count": 71,
     "metadata": {},
     "output_type": "execute_result"
    }
   ],
   "source": [
    "norm.pdf(0, loc=5, scale=10)"
   ]
  },
  {
   "cell_type": "markdown",
   "metadata": {},
   "source": [
    "+ loc: mean ($\\mu$)\n",
    "+ scale: standard deviation ($\\sigma$)"
   ]
  },
  {
   "cell_type": "markdown",
   "metadata": {},
   "source": [
    "**PDF of an array**"
   ]
  },
  {
   "cell_type": "code",
   "execution_count": 72,
   "metadata": {},
   "outputs": [
    {
     "data": {
      "text/plain": [
       "array([0.31356788, 0.85232634, 0.7271592 , 0.22820196, 0.28051163,\n",
       "       0.0067542 , 0.06099885, 0.94119644, 0.29078419, 0.4131674 ])"
      ]
     },
     "execution_count": 72,
     "metadata": {},
     "output_type": "execute_result"
    }
   ],
   "source": [
    "r = np.random.rand(10)\n",
    "r"
   ]
  },
  {
   "cell_type": "code",
   "execution_count": 73,
   "metadata": {},
   "outputs": [
    {
     "data": {
      "text/plain": [
       "array([0.37980362, 0.27743499, 0.30626064, 0.38868867, 0.38355129,\n",
       "       0.39893318, 0.39820077, 0.25618283, 0.38242747, 0.36630382])"
      ]
     },
     "execution_count": 73,
     "metadata": {},
     "output_type": "execute_result"
    }
   ],
   "source": [
    "norm.pdf(r)"
   ]
  },
  {
   "attachments": {
    "image.png": {
     "image/png": "[encoded data removed]"
    }
   },
   "cell_type": "markdown",
   "metadata": {},
   "source": [
    "![image.png](attachment:image.png)"
   ]
  },
  {
   "cell_type": "markdown",
   "metadata": {},
   "source": [
    "**Finding Log PDF**"
   ]
  },
  {
   "cell_type": "code",
   "execution_count": 74,
   "metadata": {},
   "outputs": [
    {
     "data": {
      "text/plain": [
       "array([-0.96810094, -1.28216863, -1.18331878, -0.9449766 , -0.95828192,\n",
       "       -0.91896134, -0.92079896, -1.3618639 , -0.96121626, -1.00429218])"
      ]
     },
     "execution_count": 74,
     "metadata": {},
     "output_type": "execute_result"
    }
   ],
   "source": [
    "norm.logpdf(r)"
   ]
  },
  {
   "cell_type": "markdown",
   "metadata": {},
   "source": [
    "**Finding CDF**"
   ]
  },
  {
   "cell_type": "code",
   "execution_count": 75,
   "metadata": {},
   "outputs": [
    {
     "data": {
      "text/plain": [
       "array([0.62307537, 0.8029835 , 0.76643578, 0.59025538, 0.6104575 ,\n",
       "       0.50269452, 0.52431994, 0.8266979 , 0.61439181, 0.66025801])"
      ]
     },
     "execution_count": 75,
     "metadata": {},
     "output_type": "execute_result"
    }
   ],
   "source": [
    "norm.cdf(r)"
   ]
  },
  {
   "cell_type": "markdown",
   "metadata": {},
   "source": [
    "**Finding Log CDF**"
   ]
  },
  {
   "cell_type": "code",
   "execution_count": 76,
   "metadata": {},
   "outputs": [
    {
     "data": {
      "text/plain": [
       "array([-0.47308779, -0.21942111, -0.26600437, -0.52719999, -0.49354661,\n",
       "       -0.68777262, -0.64565321, -0.19031595, -0.48712243, -0.41512459])"
      ]
     },
     "execution_count": 76,
     "metadata": {},
     "output_type": "execute_result"
    }
   ],
   "source": [
    "norm.logcdf(r)"
   ]
  },
  {
   "cell_type": "markdown",
   "metadata": {},
   "source": [
    "## Sampling from 1 D Gaussian"
   ]
  },
  {
   "cell_type": "code",
   "execution_count": 77,
   "metadata": {},
   "outputs": [
    {
     "data": {
      "image/png": "[encoded data removed]",
      "text/plain": [
       "<Figure size 432x288 with 1 Axes>"
      ]
     },
     "metadata": {
      "needs_background": "light"
     },
     "output_type": "display_data"
    }
   ],
   "source": [
    "r = np.random.rand(10000)\n",
    "plt.hist(r, bins=100)\n",
    "plt.show()"
   ]
  },
  {
   "cell_type": "code",
   "execution_count": 78,
   "metadata": {
    "scrolled": true
   },
   "outputs": [
    {
     "data": {
      "text/plain": [
       "array([14.67688265, 10.25979279,  8.47932788, ...,  6.10458189,\n",
       "       11.76798551, 10.45080332])"
      ]
     },
     "execution_count": 78,
     "metadata": {},
     "output_type": "execute_result"
    }
   ],
   "source": [
    "r = 10*r + 5 # standard deviation 10 and mean = 5\n",
    "r"
   ]
  },
  {
   "cell_type": "code",
   "execution_count": 79,
   "metadata": {},
   "outputs": [
    {
     "data": {
      "image/png": "[encoded data removed]",
      "text/plain": [
       "<Figure size 432x288 with 1 Axes>"
      ]
     },
     "metadata": {
      "needs_background": "light"
     },
     "output_type": "display_data"
    }
   ],
   "source": [
    "plt.hist(r, bins=100)\n",
    "plt.show()"
   ]
  },
  {
   "cell_type": "markdown",
   "metadata": {},
   "source": [
    "## Sampling from Spherical and Axis aligned Gaussian Distribution"
   ]
  },
  {
   "cell_type": "code",
   "execution_count": 80,
   "metadata": {},
   "outputs": [
    {
     "data": {
      "text/plain": [
       "array([[ 0.10873929, -0.12334332],\n",
       "       [ 0.07845314, -0.67619401],\n",
       "       [-0.22904045,  0.93642101],\n",
       "       ...,\n",
       "       [-0.93320772,  0.18432131],\n",
       "       [ 0.03974775,  0.13444101],\n",
       "       [-0.13042022, -0.65100253]])"
      ]
     },
     "execution_count": 80,
     "metadata": {},
     "output_type": "execute_result"
    }
   ],
   "source": [
    "r = np.random.randn(10000, 2)\n",
    "r"
   ]
  },
  {
   "cell_type": "code",
   "execution_count": 81,
   "metadata": {},
   "outputs": [],
   "source": [
    "x = r[:, 0]\n",
    "y = r[:, 1]"
   ]
  },
  {
   "cell_type": "code",
   "execution_count": 82,
   "metadata": {},
   "outputs": [
    {
     "data": {
      "image/png": "[encoded data removed]",
      "text/plain": [
       "<Figure size 432x288 with 1 Axes>"
      ]
     },
     "metadata": {
      "needs_background": "light"
     },
     "output_type": "display_data"
    }
   ],
   "source": [
    "plt.scatter(x, y)\n",
    "plt.show()"
   ]
  },
  {
   "cell_type": "code",
   "execution_count": 83,
   "metadata": {},
   "outputs": [
    {
     "data": {
      "image/png": "[encoded data removed]",
      "text/plain": [
       "<Figure size 432x288 with 1 Axes>"
      ]
     },
     "metadata": {
      "needs_background": "light"
     },
     "output_type": "display_data"
    }
   ],
   "source": [
    "# making it eliptical\n",
    "r[:, 1] = 5*r[:, 1] + 2\n",
    "plt.scatter(x, y)\n",
    "plt.axis(\"equal\")\n",
    "plt.show()"
   ]
  },
  {
   "cell_type": "markdown",
   "metadata": {},
   "source": [
    "**Sampling from General Multivariable Normal**"
   ]
  },
  {
   "cell_type": "code",
   "execution_count": 84,
   "metadata": {},
   "outputs": [
    {
     "data": {
      "text/plain": [
       "array([[1. , 0.8],\n",
       "       [0.8, 3. ]])"
      ]
     },
     "execution_count": 84,
     "metadata": {},
     "output_type": "execute_result"
    }
   ],
   "source": [
    "cov_mat = np.array([ [1, 0.8], [0.8, 3] ])\n",
    "cov_mat"
   ]
  },
  {
   "cell_type": "code",
   "execution_count": 85,
   "metadata": {},
   "outputs": [],
   "source": [
    "from scipy.stats import multivariate_normal as mvn"
   ]
  },
  {
   "cell_type": "code",
   "execution_count": 86,
   "metadata": {},
   "outputs": [
    {
     "data": {
      "text/plain": [
       "array([0, 2])"
      ]
     },
     "execution_count": 86,
     "metadata": {},
     "output_type": "execute_result"
    }
   ],
   "source": [
    "mu = np.array([0, 2])\n",
    "mu"
   ]
  },
  {
   "cell_type": "markdown",
   "metadata": {},
   "source": [
    "**Random Values**"
   ]
  },
  {
   "cell_type": "code",
   "execution_count": 87,
   "metadata": {},
   "outputs": [
    {
     "data": {
      "text/plain": [
       "array([[ 0.93050147,  3.15688571],\n",
       "       [-0.12081363,  3.71708853],\n",
       "       [ 1.71659238,  4.97728294],\n",
       "       ...,\n",
       "       [ 0.87948985,  1.58916009],\n",
       "       [ 1.21626047,  4.07705332],\n",
       "       [-2.3371254 , -0.23754504]])"
      ]
     },
     "execution_count": 87,
     "metadata": {},
     "output_type": "execute_result"
    }
   ],
   "source": [
    "r = mvn.rvs(mean=mu, cov=cov_mat, size=1000)\n",
    "r"
   ]
  },
  {
   "cell_type": "code",
   "execution_count": 88,
   "metadata": {},
   "outputs": [
    {
     "data": {
      "image/png": "[encoded data removed]",
      "text/plain": [
       "<Figure size 432x288 with 1 Axes>"
      ]
     },
     "metadata": {
      "needs_background": "light"
     },
     "output_type": "display_data"
    }
   ],
   "source": [
    "plt.scatter(r[:, 0], r[:, 1])\n",
    "plt.show()"
   ]
  },
  {
   "cell_type": "markdown",
   "metadata": {},
   "source": [
    "**This can also be done by Numpy**"
   ]
  },
  {
   "cell_type": "code",
   "execution_count": 89,
   "metadata": {},
   "outputs": [
    {
     "data": {
      "text/plain": [
       "array([[-0.33036606,  2.34243562],\n",
       "       [ 0.75350833,  2.92357367],\n",
       "       [ 0.6221811 ,  1.67370581],\n",
       "       ...,\n",
       "       [-0.14670951,  0.3373042 ],\n",
       "       [-0.72096562,  1.52334035],\n",
       "       [ 1.21181611,  3.58187622]])"
      ]
     },
     "execution_count": 89,
     "metadata": {},
     "output_type": "execute_result"
    }
   ],
   "source": [
    "r = np.random.multivariate_normal(mean=mu, cov=cov_mat, size=1000)\n",
    "r"
   ]
  },
  {
   "cell_type": "code",
   "execution_count": 90,
   "metadata": {},
   "outputs": [
    {
     "data": {
      "image/png": "[encoded data removed]",
      "text/plain": [
       "<Figure size 432x288 with 1 Axes>"
      ]
     },
     "metadata": {
      "needs_background": "light"
     },
     "output_type": "display_data"
    }
   ],
   "source": [
    "plt.scatter(r[:, 0], r[:, 1])\n",
    "plt.show()"
   ]
  },
  {
   "cell_type": "markdown",
   "metadata": {},
   "source": [
    "## Other functions\n",
    "\n",
    "+ scipy.io.loadmat\n",
    "+ scipy.io.wavfile.read\n",
    "+ scipy.io.wavfile.write\n",
    "+ scipy.signal"
   ]
  },
  {
   "cell_type": "markdown",
   "metadata": {},
   "source": [
    "FFT: Fast Fourier Transformation\n",
    "\n",
    "Converts a signal from time domain to frequency domain"
   ]
  },
  {
   "cell_type": "code",
   "execution_count": 91,
   "metadata": {},
   "outputs": [
    {
     "data": {
      "text/plain": [
       "array([0.00000000e+00, 1.00010001e-02, 2.00020002e-02, ...,\n",
       "       9.99799980e+01, 9.99899990e+01, 1.00000000e+02])"
      ]
     },
     "execution_count": 91,
     "metadata": {},
     "output_type": "execute_result"
    }
   ],
   "source": [
    "line = np.linspace(0, 100, 10000)\n",
    "line"
   ]
  },
  {
   "cell_type": "code",
   "execution_count": 92,
   "metadata": {},
   "outputs": [
    {
     "data": {
      "text/plain": [
       "array([ 0.        ,  0.0899835 ,  0.17981403, ..., -1.89733057,\n",
       "       -1.93661588, -1.97389329])"
      ]
     },
     "execution_count": 92,
     "metadata": {},
     "output_type": "execute_result"
    }
   ],
   "source": [
    "sin = np.sin(line) + np.sin(3*line) + np.sin(5*line)\n",
    "sin"
   ]
  },
  {
   "cell_type": "code",
   "execution_count": 93,
   "metadata": {},
   "outputs": [
    {
     "data": {
      "image/png": "[encoded data removed]",
      "text/plain": [
       "<Figure size 432x288 with 1 Axes>"
      ]
     },
     "metadata": {
      "needs_background": "light"
     },
     "output_type": "display_data"
    }
   ],
   "source": [
    "plt.plot(sin)\n",
    "plt.show()"
   ]
  },
  {
   "cell_type": "code",
   "execution_count": 94,
   "metadata": {},
   "outputs": [
    {
     "data": {
      "text/plain": [
       "array([84.50896664 +0.j        , 84.58191016 +3.96590534j,\n",
       "       84.80335792 +8.00930464j, ..., 85.18147324-12.21389062j,\n",
       "       84.80335792 -8.00930464j, 84.58191016 -3.96590534j])"
      ]
     },
     "execution_count": 94,
     "metadata": {},
     "output_type": "execute_result"
    }
   ],
   "source": [
    "fft = np.fft.fft(sin)\n",
    "fft"
   ]
  },
  {
   "cell_type": "code",
   "execution_count": 95,
   "metadata": {},
   "outputs": [
    {
     "data": {
      "image/png": "[encoded data removed]",
      "text/plain": [
       "<Figure size 432x288 with 1 Axes>"
      ]
     },
     "metadata": {
      "needs_background": "light"
     },
     "output_type": "display_data"
    }
   ],
   "source": [
    "plt.plot(np.abs(fft))\n",
    "plt.show()"
   ]
  },
  {
   "cell_type": "code",
   "execution_count": null,
   "metadata": {},
   "outputs": [],
   "source": []
  }
 ],
 "metadata": {
  "kernelspec": {
   "display_name": "Python 3",
   "language": "python",
   "name": "python3"
  },
  "language_info": {
   "codemirror_mode": {
    "name": "ipython",
    "version": 3
   },
   "file_extension": ".py",
   "mimetype": "text/x-python",
   "name": "python",
   "nbconvert_exporter": "python",
   "pygments_lexer": "ipython3",
   "version": "3.7.3"
  }
 },
 "nbformat": 4,
 "nbformat_minor": 2
}
